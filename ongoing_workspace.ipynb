{
 "cells": [
  {
   "cell_type": "markdown",
   "metadata": {},
   "source": [
    "Imports:"
   ]
  },
  {
   "cell_type": "code",
   "execution_count": 16,
   "metadata": {},
   "outputs": [],
   "source": [
    "import numpy as np\n",
    "import pandas as pd  \n",
    "import data_cleaning_for_EDA as dc \n",
    "import matplotlib.pyplot as plt\n",
    "import seaborn as sns\n",
    "import imputing_methods as im"
   ]
  },
  {
   "cell_type": "markdown",
   "metadata": {},
   "source": [
    "Read in data: "
   ]
  },
  {
   "cell_type": "code",
   "execution_count": 5,
   "metadata": {},
   "outputs": [],
   "source": [
    "def parse_to_datetime_mo_yr(date_str):\n",
    "    return pd.to_datetime(date_str, format='%b-%Y', errors='coerce') #%b is for month name, and %m is for month number. Ugh. \n",
    "\n",
    "# Reading in the csv and parsing dates. \n",
    "finance_df = pd.read_csv(\n",
    "    \"dataframe.csv\",\n",
    "    parse_dates=['issue_date', 'earliest_credit_line', 'last_payment_date', 'next_payment_date', 'last_credit_pull_date'],\n",
    "    date_format='%m-%Y',\n",
    "    converters={'issue_date': parse_to_datetime_mo_yr, \n",
    "                'earliest_credit_line': parse_to_datetime_mo_yr,\n",
    "                'last_payment_date': parse_to_datetime_mo_yr,\n",
    "                'next_payment_date': parse_to_datetime_mo_yr,\n",
    "                'last_credit_pull_date': parse_to_datetime_mo_yr}\n",
    ")\n",
    "# Cleaning up lengths of time that could be treated as floats. \n",
    "finance_df['employment_length'] = finance_df['employment_length'].str.extract(r\"([-+]?\\d*\\.\\d+|[-+]?\\d+)\").astype(float)\n",
    "finance_df['term'] = finance_df['term'].str.extract(r\"([-+]?\\d*\\.\\d+|[-+]?\\d+)\").astype(float)\n",
    "finance_df.rename(columns = {'employment_length':'years_of_employment', 'term' : 'term_length_in_months'}, inplace = True) \n",
    "# Cleaning up object type columns- all of which are suitable for category (I checked).\n",
    "columns_to_cat = ['grade', 'sub_grade', 'verification_status', 'home_ownership', 'loan_status', 'payment_plan', 'purpose', 'application_type']\n",
    "finance_df[columns_to_cat] = finance_df[columns_to_cat].astype('category')"
   ]
  },
  {
   "cell_type": "markdown",
   "metadata": {},
   "source": [
    "Allowing my data frame to inherit any classes I've created and want to use: "
   ]
  },
  {
   "cell_type": "code",
   "execution_count": null,
   "metadata": {},
   "outputs": [],
   "source": [
    "class MultipleInheritanceTestClass(im.Plotter, im.DataFrameTransform, dc.DataFrameInfo):\n",
    "    pass\n",
    "\n",
    "df = MultipleInheritanceTestClass(finance_df)"
   ]
  },
  {
   "cell_type": "markdown",
   "metadata": {},
   "source": [
    "Main Workspace: "
   ]
  },
  {
   "cell_type": "code",
   "execution_count": 8,
   "metadata": {},
   "outputs": [
    {
     "name": "stdout",
     "output_type": "stream",
     "text": [
      "Table exported to issue_date_tabulated.csv\n"
     ]
    }
   ],
   "source": [
    "\n",
    "df.drop_weak_columns() \n",
    "\n",
    "df.perc_null()\n",
    "\n",
    "# deciding which (if any) columns have too many NULLs: \n",
    "\n",
    "# df.print_shape() # again, it's (54231, 44)\n",
    "\n",
    "# df.perc_null() # suspiciously, all my parsed date columns are reading as 100% null. \n",
    "        # other high-null columns: months_since_last_major_derog 86% mths_since_last_deling 57% mths_since_last_record 88% \n",
    "\n",
    "# finance_df['next_payment_date'].head(10) #now that works. \n",
    "\n",
    "# df.tabulate_and_export('issue_date', 'issue_date_tabulated.csv')\n",
    "\n",
    "# df.plot_column('issue_date') # Late 2009 looks very popular. \n",
    "\n",
    "# df.col_names()\n",
    "\n",
    "# df.plot_column('home_ownership') # unsupported data type\n",
    "\n",
    "# df.data_types() "
   ]
  }
 ],
 "metadata": {
  "kernelspec": {
   "display_name": "EDA_AiCore_env",
   "language": "python",
   "name": "python3"
  },
  "language_info": {
   "codemirror_mode": {
    "name": "ipython",
    "version": 3
   },
   "file_extension": ".py",
   "mimetype": "text/x-python",
   "name": "python",
   "nbconvert_exporter": "python",
   "pygments_lexer": "ipython3",
   "version": "3.12.1"
  }
 },
 "nbformat": 4,
 "nbformat_minor": 2
}
