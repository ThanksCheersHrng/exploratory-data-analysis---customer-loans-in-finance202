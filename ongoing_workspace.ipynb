{
 "cells": [
  {
   "cell_type": "markdown",
   "metadata": {},
   "source": [
    "Imports:"
   ]
  },
  {
   "cell_type": "code",
   "execution_count": 20,
   "metadata": {},
   "outputs": [],
   "source": [
    "import numpy as np\n",
    "import pandas as pd  \n",
    "import data_cleaning_for_EDA as dc \n",
    "import matplotlib.pyplot as plt\n",
    "import seaborn as sns\n",
    "import imputing_methods as im"
   ]
  },
  {
   "cell_type": "markdown",
   "metadata": {},
   "source": [
    "Read in data: "
   ]
  },
  {
   "cell_type": "code",
   "execution_count": 21,
   "metadata": {},
   "outputs": [],
   "source": [
    "def parse_to_datetime_mo_yr(date_str):\n",
    "    return pd.to_datetime(date_str, format='%b-%Y', errors='coerce') #%b is for month name, and %m is for month number. Ugh. \n",
    "\n",
    "# Reading in the csv and parsing dates. \n",
    "finance_df = pd.read_csv(\n",
    "    \"dataframe.csv\",\n",
    "    parse_dates=['issue_date', 'earliest_credit_line', 'last_payment_date', 'next_payment_date', 'last_credit_pull_date'],\n",
    "    date_format='%m-%Y',\n",
    "    converters={'issue_date': parse_to_datetime_mo_yr, \n",
    "                'earliest_credit_line': parse_to_datetime_mo_yr,\n",
    "                'last_payment_date': parse_to_datetime_mo_yr,\n",
    "                'next_payment_date': parse_to_datetime_mo_yr,\n",
    "                'last_credit_pull_date': parse_to_datetime_mo_yr}\n",
    ")\n",
    "# Cleaning up lengths of time that could be treated as floats. \n",
    "finance_df['employment_length'] = finance_df['employment_length'].str.extract(r\"([-+]?\\d*\\.\\d+|[-+]?\\d+)\").astype(float)\n",
    "finance_df['term'] = finance_df['term'].str.extract(r\"([-+]?\\d*\\.\\d+|[-+]?\\d+)\").astype(float)\n",
    "finance_df.rename(columns = {'employment_length':'years_of_employment', 'term' : 'term_length_in_months'}, inplace = True) \n",
    "# Cleaning up object type columns- all of which are suitable for category (I checked).\n",
    "columns_to_cat = ['grade', 'sub_grade', 'verification_status', 'home_ownership', 'loan_status', 'payment_plan', 'purpose', 'application_type']\n",
    "finance_df[columns_to_cat] = finance_df[columns_to_cat].astype('category')"
   ]
  },
  {
   "cell_type": "markdown",
   "metadata": {},
   "source": [
    "Allowing my data frame to inherit any classes I've created and want to use: "
   ]
  },
  {
   "cell_type": "code",
   "execution_count": 22,
   "metadata": {},
   "outputs": [],
   "source": [
    "class MultipleInheritanceTestClass(im.Plotter, im.DataFrameTransform, dc.DataFrameInfo):\n",
    "    pass\n",
    "\n",
    "df = MultipleInheritanceTestClass(finance_df)"
   ]
  },
  {
   "cell_type": "markdown",
   "metadata": {},
   "source": [
    "Main Workspace: "
   ]
  },
  {
   "cell_type": "code",
   "execution_count": 23,
   "metadata": {},
   "outputs": [
    {
     "name": "stdout",
     "output_type": "stream",
     "text": [
      "Unnamed: 0                    0.000000\n",
      "id                            0.000000\n",
      "member_id                     0.000000\n",
      "loan_amount                   0.000000\n",
      "funded_amount                 5.544799\n",
      "funded_amount_inv             0.000000\n",
      "term_length_in_months         8.799395\n",
      "int_rate                      9.531449\n",
      "instalment                    0.000000\n",
      "grade                         0.000000\n",
      "sub_grade                     0.000000\n",
      "years_of_employment           3.905515\n",
      "home_ownership                0.000000\n",
      "annual_inc                    0.000000\n",
      "verification_status           0.000000\n",
      "issue_date                    0.000000\n",
      "loan_status                   0.000000\n",
      "payment_plan                  0.000000\n",
      "purpose                       0.000000\n",
      "dti                           0.000000\n",
      "delinq_2yrs                   0.000000\n",
      "earliest_credit_line          0.000000\n",
      "inq_last_6mths                0.000000\n",
      "open_accounts                 0.000000\n",
      "total_accounts                0.000000\n",
      "out_prncp                     0.000000\n",
      "out_prncp_inv                 0.000000\n",
      "total_payment                 0.000000\n",
      "total_payment_inv             0.000000\n",
      "total_rec_prncp               0.000000\n",
      "total_rec_int                 0.000000\n",
      "total_rec_late_fee            0.000000\n",
      "recoveries                    0.000000\n",
      "collection_recovery_fee       0.000000\n",
      "last_payment_date             0.000000\n",
      "last_payment_amount           0.000000\n",
      "next_payment_date             0.000000\n",
      "last_credit_pull_date         0.000000\n",
      "collections_12_mths_ex_med    0.094042\n",
      "policy_code                   0.000000\n",
      "application_type              0.000000\n",
      "dtype: float64\n"
     ]
    }
   ],
   "source": [
    "\n",
    "df.drop_weak_columns() \n",
    "\n",
    "df.perc_null()\n",
    "\n",
    "# deciding which (if any) columns have too many NULLs: \n",
    "\n",
    "# df.print_shape() # again, it's (54231, 44)\n",
    "\n",
    "# df.perc_null() # suspiciously, all my parsed date columns are reading as 100% null. \n",
    "        # other high-null columns: months_since_last_major_derog 86% mths_since_last_deling 57% mths_since_last_record 88% \n",
    "\n",
    "# finance_df['next_payment_date'].head(10) #now that works. \n",
    "\n",
    "# df.tabulate_and_export('issue_date', 'issue_date_tabulated.csv')\n",
    "\n",
    "# df.plot_column('issue_date') # Late 2009 looks very popular. \n",
    "\n",
    "# df.col_names()\n",
    "\n",
    "# df.plot_column('home_ownership') # unsupported data type\n",
    "\n",
    "# df.data_types() "
   ]
  },
  {
   "cell_type": "markdown",
   "metadata": {},
   "source": [
    "Decide whether the column should be imputed with median or mean: "
   ]
  },
  {
   "cell_type": "code",
   "execution_count": null,
   "metadata": {},
   "outputs": [],
   "source": [
    "#I ran plots for all five of the non-zero percentage null columns, but I kept pressing shift+enter so moved on with my life; you can see three here and run the other three yourself if you want. \n",
    "df.plot_column(\"int_rate\")\n",
    "df.plot_column(\"years_of_employment\")\n",
    "df.plot_column(\"collections_12_mths_ex_med\")\n",
    "#they're all skewed so all median imputes"
   ]
  },
  {
   "cell_type": "markdown",
   "metadata": {},
   "source": [
    "Impute null values:"
   ]
  },
  {
   "cell_type": "code",
   "execution_count": 24,
   "metadata": {},
   "outputs": [
    {
     "ename": "AttributeError",
     "evalue": "'MultipleInheritanceTestClass' object has no attribute 'impute_null_values'",
     "output_type": "error",
     "traceback": [
      "\u001b[1;31m---------------------------------------------------------------------------\u001b[0m",
      "\u001b[1;31mAttributeError\u001b[0m                            Traceback (most recent call last)",
      "Cell \u001b[1;32mIn[24], line 1\u001b[0m\n\u001b[1;32m----> 1\u001b[0m \u001b[43mdf\u001b[49m\u001b[38;5;241;43m.\u001b[39;49m\u001b[43mimpute_null_values\u001b[49m()\n",
      "\u001b[1;31mAttributeError\u001b[0m: 'MultipleInheritanceTestClass' object has no attribute 'impute_null_values'"
     ]
    }
   ],
   "source": [
    "df.impute_null_values()\n",
    "df.perc_null() "
   ]
  },
  {
   "cell_type": "code",
   "execution_count": null,
   "metadata": {},
   "outputs": [],
   "source": [
    "#visualise the removal of null values with another plot: \n",
    "df.plot_column(\"int_rate\")\n",
    "df.plot_column(\"years_of_employment\")\n",
    "df.plot_column(\"collections_12_mths_ex_med\")"
   ]
  }
 ],
 "metadata": {
  "kernelspec": {
   "display_name": "EDA_AiCore_env",
   "language": "python",
   "name": "python3"
  },
  "language_info": {
   "codemirror_mode": {
    "name": "ipython",
    "version": 3
   },
   "file_extension": ".py",
   "mimetype": "text/x-python",
   "name": "python",
   "nbconvert_exporter": "python",
   "pygments_lexer": "ipython3",
   "version": "3.12.1"
  }
 },
 "nbformat": 4,
 "nbformat_minor": 2
}
