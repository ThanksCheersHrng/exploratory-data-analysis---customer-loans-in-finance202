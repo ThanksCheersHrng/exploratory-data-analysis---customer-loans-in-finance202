{
 "cells": [
  {
   "cell_type": "markdown",
   "metadata": {},
   "source": [
    "Imports:"
   ]
  },
  {
   "cell_type": "code",
   "execution_count": null,
   "metadata": {},
   "outputs": [],
   "source": [
    "import numpy as np\n",
    "import pandas as pd  \n",
    "import data_cleaning_for_EDA as dc \n",
    "import matplotlib.pyplot as plt\n",
    "import seaborn as sns\n",
    "import imputing_methods as im"
   ]
  },
  {
   "cell_type": "markdown",
   "metadata": {},
   "source": [
    "Read in data: "
   ]
  },
  {
   "cell_type": "code",
   "execution_count": null,
   "metadata": {},
   "outputs": [],
   "source": [
    "def parse_to_datetime_mo_yr(date_str):\n",
    "    return pd.to_datetime(date_str, format='%m-%Y', errors='coerce')\n",
    "\n",
    "# Reading in the csv and parsing dates. \n",
    "finance_df = pd.read_csv(\n",
    "    \"dataframe.csv\",\n",
    "    parse_dates=['issue_date', 'earliest_credit_line', 'last_payment_date', 'next_payment_date', 'last_credit_pull_date'],\n",
    "    date_format='%m-%Y',\n",
    "    converters={'issue_date': parse_to_datetime_mo_yr, \n",
    "                'earliest_credit_line': parse_to_datetime_mo_yr,\n",
    "                'last_payment_date': parse_to_datetime_mo_yr,\n",
    "                'next_payment_date': parse_to_datetime_mo_yr,\n",
    "                'last_credit_pull_date': parse_to_datetime_mo_yr}\n",
    ")\n",
    "# Cleaning up lengths of time that could be treated as floats. \n",
    "finance_df['employment_length'] = finance_df['employment_length'].str.extract(r\"([-+]?\\d*\\.\\d+|[-+]?\\d+)\").astype(float)\n",
    "finance_df['term'] = finance_df['term'].str.extract(r\"([-+]?\\d*\\.\\d+|[-+]?\\d+)\").astype(float)\n",
    "finance_df.rename(columns = {'employment_length':'years_of_employment', 'term' : 'term_length_in_months'}, inplace = True) \n",
    "# Cleaning up object type columns- all of which are suitable for category (I checked).\n",
    "columns_to_cat = ['grade', 'sub_grade', 'verification_status', 'home_ownership', 'loan_status', 'payment_plan', 'purpose', 'application_type']\n",
    "finance_df[columns_to_cat] = finance_df[columns_to_cat].astype('category')"
   ]
  },
  {
   "cell_type": "markdown",
   "metadata": {},
   "source": [
    "Allowing my data frame to inherit any classes I've created and want to use: "
   ]
  },
  {
   "cell_type": "code",
   "execution_count": null,
   "metadata": {},
   "outputs": [],
   "source": [
    "class MultipleInheritanceTestClass(im.Plotter, dc.DataFrameInfo):\n",
    "    pass\n",
    "\n",
    "df = MultipleInheritanceTestClass(finance_df)"
   ]
  },
  {
   "cell_type": "markdown",
   "metadata": {},
   "source": [
    "Main Workspace: "
   ]
  },
  {
   "cell_type": "code",
   "execution_count": null,
   "metadata": {},
   "outputs": [],
   "source": [
    "# deciding which (if any) columns have too many NULLs: \n",
    "\n",
    "# df.print_shape() # again, it's (54231, 44)\n",
    "\n",
    "# df.perc_null() # suspiciously, all my parsed date columns are reading as 100% null. \n",
    "        # other high-null columns: months_since_last_major_derog 86% mths_since_last_deling 57% mths_since_last_record 88% \n",
    "\n",
    "finance_df['next_payment_date'].head(10)\n",
    "\n",
    "# df.plot_column('issue_date') # Late 2009 looks very popular. \n",
    "\n",
    "# df.col_names()\n",
    "\n",
    "# df.plot_column('home_ownership') # unsupported data type\n",
    "\n",
    "# df.data_types() "
   ]
  }
 ],
 "metadata": {
  "language_info": {
   "name": "python"
  }
 },
 "nbformat": 4,
 "nbformat_minor": 2
}
