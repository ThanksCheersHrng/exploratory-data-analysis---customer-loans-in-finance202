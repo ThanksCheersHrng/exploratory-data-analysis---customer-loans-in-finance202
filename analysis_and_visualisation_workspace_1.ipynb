{
 "cells": [
  {
   "cell_type": "markdown",
   "metadata": {},
   "source": [
    "# Milestone 4: Analysis and Visualisation "
   ]
  },
  {
   "cell_type": "code",
   "execution_count": 1,
   "metadata": {},
   "outputs": [],
   "source": [
    "# Preamble - imports \n",
    "import pandas as pd\n",
    "import numpy as np \n",
    "import matplotlib.pyplot as plt \n",
    "import seaborn as sbn "
   ]
  },
  {
   "cell_type": "code",
   "execution_count": 2,
   "metadata": {},
   "outputs": [],
   "source": [
    "finance_df = pd.read_csv(\"df_after_Task_6.csv\") # All should be cleaned now, dates parsed, etc. \n",
    "# type(finance_df) # confirming it's a pd.df :)  "
   ]
  },
  {
   "cell_type": "markdown",
   "metadata": {},
   "source": [
    "## Task 1: Current state of loans \n",
    "Summarise currently what percentage of the loans are recovered against the investor funding and the total amount funded. \n",
    "Visualise the results of the above. \n",
    "Visualise what percentage of the total amount would be recovered up to 6 months in the future. "
   ]
  },
  {
   "cell_type": "code",
   "execution_count": 3,
   "metadata": {},
   "outputs": [
    {
     "name": "stdout",
     "output_type": "stream",
     "text": [
      "Unnamed: 0                      int64\n",
      "id                              int64\n",
      "member_id                       int64\n",
      "loan_amount                     int64\n",
      "term_length_in_months         float64\n",
      "int_rate                      float64\n",
      "grade                          object\n",
      "sub_grade                      object\n",
      "years_of_employment           float64\n",
      "home_ownership                 object\n",
      "annual_inc                    float64\n",
      "verification_status            object\n",
      "issue_date                     object\n",
      "loan_status                    object\n",
      "payment_plan                   object\n",
      "purpose                        object\n",
      "dti                           float64\n",
      "delinq_2yrs                     int64\n",
      "earliest_credit_line           object\n",
      "inq_last_6mths                  int64\n",
      "open_accounts                   int64\n",
      "total_accounts                  int64\n",
      "out_prncp                     float64\n",
      "total_rec_prncp               float64\n",
      "total_rec_late_fee            float64\n",
      "recoveries                    float64\n",
      "last_payment_date              object\n",
      "last_payment_amount           float64\n",
      "next_payment_date              object\n",
      "last_credit_pull_date          object\n",
      "collections_12_mths_ex_med    float64\n",
      "policy_code                     int64\n",
      "application_type               object\n",
      "dtype: object\n"
     ]
    }
   ],
   "source": [
    "print(finance_df.dtypes)  # compared with loan_data_dict.md\n",
    "\n",
    "\n"
   ]
  },
  {
   "cell_type": "markdown",
   "metadata": {},
   "source": [
    "**Aside:** Upon trying to find suitable columns to 'summarise currently what percentage of the loans are recovered against hte investor funding and the total amount funded,' I realise that I have also in my 'data cleaning' removed all the potentially appropriate columns for that task, namely: \n",
    "- **out_prncp**: Remaining outstanding principal for total amount funded\n",
    "- **out_prncp_inv**: Remaining outstanding principal for portion of total amount funded by investors\n",
    "- **total_payment**: Payments received to date for total amount funded\n",
    "\n",
    "I am shocked by the pedagogical blundering that would lead to such an oversight- students don't know where they're going or what sort of analysis will be asked of them, so they don't know how to properly clean the data without utterly destroying its utility, and the casually wirtten data 'cleaning' prompts encourage a cavalier attitude about maintaining data. \n",
    "\n",
    "I guess this means I will be importing from the end of \"data cleaning\" task 5, and hope that I haven't destroyed anything else I might need later. "
   ]
  },
  {
   "cell_type": "code",
   "execution_count": 4,
   "metadata": {},
   "outputs": [],
   "source": [
    "finance_df = pd.read_csv(\"df_end_of_Task_5.csv\")"
   ]
  },
  {
   "cell_type": "code",
   "execution_count": 5,
   "metadata": {},
   "outputs": [
    {
     "name": "stdout",
     "output_type": "stream",
     "text": [
      "Unnamed: 0                      int64\n",
      "id                              int64\n",
      "member_id                       int64\n",
      "loan_amount                     int64\n",
      "funded_amount                 float64\n",
      "funded_amount_inv             float64\n",
      "term_length_in_months         float64\n",
      "int_rate                      float64\n",
      "instalment                    float64\n",
      "grade                          object\n",
      "sub_grade                      object\n",
      "years_of_employment           float64\n",
      "home_ownership                 object\n",
      "annual_inc                    float64\n",
      "verification_status            object\n",
      "issue_date                     object\n",
      "loan_status                    object\n",
      "payment_plan                   object\n",
      "purpose                        object\n",
      "dti                           float64\n",
      "delinq_2yrs                     int64\n",
      "earliest_credit_line           object\n",
      "inq_last_6mths                  int64\n",
      "open_accounts                   int64\n",
      "total_accounts                  int64\n",
      "out_prncp                     float64\n",
      "out_prncp_inv                 float64\n",
      "total_payment                 float64\n",
      "total_payment_inv             float64\n",
      "total_rec_prncp               float64\n",
      "total_rec_int                 float64\n",
      "total_rec_late_fee            float64\n",
      "recoveries                    float64\n",
      "collection_recovery_fee       float64\n",
      "last_payment_date              object\n",
      "last_payment_amount           float64\n",
      "next_payment_date              object\n",
      "last_credit_pull_date          object\n",
      "collections_12_mths_ex_med    float64\n",
      "policy_code                     int64\n",
      "application_type               object\n",
      "dtype: object\n"
     ]
    }
   ],
   "source": [
    "print(finance_df.dtypes)"
   ]
  }
 ],
 "metadata": {
  "kernelspec": {
   "display_name": "EDA_AiCore_env",
   "language": "python",
   "name": "python3"
  },
  "language_info": {
   "codemirror_mode": {
    "name": "ipython",
    "version": 3
   },
   "file_extension": ".py",
   "mimetype": "text/x-python",
   "name": "python",
   "nbconvert_exporter": "python",
   "pygments_lexer": "ipython3",
   "version": "3.12.1"
  }
 },
 "nbformat": 4,
 "nbformat_minor": 2
}
