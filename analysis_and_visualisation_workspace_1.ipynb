{
 "cells": [
  {
   "cell_type": "markdown",
   "metadata": {},
   "source": [
    "# Milestone 4: Analysis and Visualisation "
   ]
  },
  {
   "cell_type": "code",
   "execution_count": 1,
   "metadata": {},
   "outputs": [],
   "source": [
    "# Preamble - imports \n",
    "import pandas as pd\n",
    "import numpy as np \n",
    "import matplotlib.pyplot as plt \n",
    "import seaborn as sbn \n",
    "# from scipy.stats import ks_2samp # miniconda issues couldn't create/activate environment or install scipy. "
   ]
  },
  {
   "cell_type": "code",
   "execution_count": 2,
   "metadata": {},
   "outputs": [],
   "source": [
    "# finance_df = pd.read_csv(\"df_after_Task_6.csv\") # All should be cleaned now, dates parsed, etc. \n",
    "# type(finance_df) # confirming it's a pd.df :)  \n",
    "# I've commented out the df above since it got rid of all my useful columns- I will use the data 'cleaned' up to but not including the removal of highly correlated columns instead. \n",
    "finance_df = pd.read_csv(\"df_end_of_Task_5.csv\")"
   ]
  },
  {
   "cell_type": "markdown",
   "metadata": {},
   "source": [
    "**Aside:** Upon trying to find suitable columns to 'summarise currently what percentage of the loans are recovered against hte investor funding and the total amount funded,' I realised that data cleaning task number 6 removed all the potentially appropriate columns for that task, namely: \n",
    "- **out_prncp**: Remaining outstanding principal for total amount funded\n",
    "- **out_prncp_inv**: Remaining outstanding principal for portion of total amount funded by investors\n",
    "- **total_payment**: Payments received to date for total amount funded\n",
    "\n",
    "I am shocked by the pedagogical blundering that would lead to such an oversight- students don't know where they're going or what sort of analysis will be asked of them, so they don't know how to properly clean the data without utterly destroying its utility, and the casually wirtten data 'cleaning' prompts encourage a cavalier attitude about maintaining data. \n",
    "\n",
    "This is why I'm importing the csv from the end of task 5 instead of task 6. "
   ]
  },
  {
   "cell_type": "code",
   "execution_count": null,
   "metadata": {},
   "outputs": [],
   "source": [
    "# print(finance_df.dtypes) # plopped into loan_data_dict.md for further reference. "
   ]
  },
  {
   "cell_type": "markdown",
   "metadata": {},
   "source": [
    "## Task 1: Current state of loans \n",
    "1. Summarise currently what percentage of the loans are recovered against the investor funding and the total amount funded. \n",
    "2. Visualise the results of the above. \n",
    "3. Visualise what percentage of the total amount would be recovered up to 6 months in the future. "
   ]
  },
  {
   "cell_type": "markdown",
   "metadata": {},
   "source": [
    "For the first prompt, I'll use the following columns: \n",
    "- **out_prncp_inv**: Remaining outstanding principal for portion of total amount funded by investors"
   ]
  },
  {
   "cell_type": "code",
   "execution_count": null,
   "metadata": {},
   "outputs": [],
   "source": [
    "out_prncp_inv = finance_df[\"out_prncp_inv\"]\n",
    "\n",
    "#out_prncp_inv.head(20)\n"
   ]
  },
  {
   "cell_type": "code",
   "execution_count": 11,
   "metadata": {},
   "outputs": [
    {
     "name": "stdout",
     "output_type": "stream",
     "text": [
      "(54210, 41) 54210\n"
     ]
    }
   ],
   "source": [
    "print(finance_df.shape, out_prncp_inv.size)"
   ]
  },
  {
   "cell_type": "code",
   "execution_count": 4,
   "metadata": {},
   "outputs": [
    {
     "data": {
      "text/plain": [
       "3219    32399.94\n",
       "1859    31973.38\n",
       "666     31063.10\n",
       "2845    31038.00\n",
       "1763    30981.57\n",
       "1415    30981.55\n",
       "1577    30933.50\n",
       "3783    30933.50\n",
       "1908    30872.20\n",
       "21      30782.74\n",
       "Name: out_prncp_inv, dtype: float64"
      ]
     },
     "execution_count": 4,
     "metadata": {},
     "output_type": "execute_result"
    }
   ],
   "source": [
    "out_prncp_inv.nlargest(10)"
   ]
  },
  {
   "cell_type": "code",
   "execution_count": 5,
   "metadata": {},
   "outputs": [
    {
     "data": {
      "text/plain": [
       "2     0.0\n",
       "3     0.0\n",
       "6     0.0\n",
       "7     0.0\n",
       "25    0.0\n",
       "38    0.0\n",
       "40    0.0\n",
       "42    0.0\n",
       "43    0.0\n",
       "46    0.0\n",
       "Name: out_prncp_inv, dtype: float64"
      ]
     },
     "execution_count": 5,
     "metadata": {},
     "output_type": "execute_result"
    }
   ],
   "source": [
    "out_prncp_inv.nsmallest(10)"
   ]
  },
  {
   "cell_type": "code",
   "execution_count": 6,
   "metadata": {},
   "outputs": [
    {
     "data": {
      "text/plain": [
       "2752.9240243497507"
      ]
     },
     "execution_count": 6,
     "metadata": {},
     "output_type": "execute_result"
    }
   ],
   "source": [
    "\n",
    "out_prncp_inv.mean()"
   ]
  },
  {
   "cell_type": "code",
   "execution_count": 7,
   "metadata": {},
   "outputs": [
    {
     "data": {
      "text/plain": [
       "0.0"
      ]
     },
     "execution_count": 7,
     "metadata": {},
     "output_type": "execute_result"
    }
   ],
   "source": [
    "out_prncp_inv.median()"
   ]
  },
  {
   "cell_type": "markdown",
   "metadata": {},
   "source": [
    "What the stats above tell us is that 50% of loans are fully paid off (The median outstanding is 0.), and out_prncp_inv is measured most likely in pounds or dollars, not as a percentage. (Just checking for quick wins. ;)"
   ]
  },
  {
   "cell_type": "code",
   "execution_count": 8,
   "metadata": {},
   "outputs": [
    {
     "data": {
      "text/plain": [
       "33946"
      ]
     },
     "execution_count": 8,
     "metadata": {},
     "output_type": "execute_result"
    }
   ],
   "source": [
    "(out_prncp_inv==0).sum()"
   ]
  },
  {
   "cell_type": "markdown",
   "metadata": {},
   "source": [
    "From the above I can see there are 33946 zeros (i.e. no outstanding debt, i.e. fully repaid loans) out of 54210, so 62.62% of loans are fully repaid. Task 1's first prompt asks us to summarise what percentage of loans are recovered against the investor funding and total amount funded. The 'against' portions of that question are bit confusing, but I can say 62% of loans have been recovered; I'll check that statement using the recoveries column, and visualise, as requested in prompt two. \n",
    "\n",
    "To recap from loan_data_dict.md: \n",
    "**recoveries**: post charge off gross recovery\n",
    "\n",
    "If they actually are asking what percentage of **money loaned* is recovered, that is a different story... "
   ]
  },
  {
   "cell_type": "code",
   "execution_count": 12,
   "metadata": {},
   "outputs": [
    {
     "name": "stdout",
     "output_type": "stream",
     "text": [
      "54210 29116    16188.880000\n",
      "36980    15236.310000\n",
      "37278    14165.110000\n",
      "37297    14004.010000\n",
      "49268    14000.160000\n",
      "29414    13900.000000\n",
      "8428     13832.920000\n",
      "49140    13777.020000\n",
      "44938    13425.987971\n",
      "37594    12961.320000\n",
      "Name: recoveries, dtype: float64 0    0.0\n",
      "1    0.0\n",
      "2    0.0\n",
      "3    0.0\n",
      "4    0.0\n",
      "5    0.0\n",
      "6    0.0\n",
      "7    0.0\n",
      "8    0.0\n",
      "9    0.0\n",
      "Name: recoveries, dtype: float64 89.52323483605744 0.0\n"
     ]
    }
   ],
   "source": [
    "recoveries = finance_df[\"recoveries\"]\n",
    "print(recoveries.size, recoveries.nlargest(10), recoveries.nsmallest(10))"
   ]
  },
  {
   "cell_type": "code",
   "execution_count": 13,
   "metadata": {},
   "outputs": [
    {
     "data": {
      "text/plain": [
       "89.52323483605744"
      ]
     },
     "execution_count": 13,
     "metadata": {},
     "output_type": "execute_result"
    }
   ],
   "source": [
    "recoveries.mean()"
   ]
  },
  {
   "cell_type": "code",
   "execution_count": 14,
   "metadata": {},
   "outputs": [
    {
     "data": {
      "text/plain": [
       "0.0"
      ]
     },
     "execution_count": 14,
     "metadata": {},
     "output_type": "execute_result"
    }
   ],
   "source": [
    "recoveries.median()"
   ]
  },
  {
   "cell_type": "code",
   "execution_count": 15,
   "metadata": {},
   "outputs": [
    {
     "data": {
      "text/plain": [
       "11.206563566763865"
      ]
     },
     "execution_count": 15,
     "metadata": {},
     "output_type": "execute_result"
    }
   ],
   "source": [
    "# Noticed mean and median different, suggests skew... \n",
    "\n",
    "recoveries.skew() # 11 - yep, highly skewed. "
   ]
  },
  {
   "cell_type": "code",
   "execution_count": 16,
   "metadata": {},
   "outputs": [
    {
     "data": {
      "text/plain": [
       "50558"
      ]
     },
     "execution_count": 16,
     "metadata": {},
     "output_type": "execute_result"
    }
   ],
   "source": [
    "#So how many recoveries are at 0? \n",
    "(recoveries==0).sum()"
   ]
  },
  {
   "cell_type": "markdown",
   "metadata": {},
   "source": [
    "As you can see from the above, a whopping 50558/54210 = 93.26% of recoveries are at 0; this is neither equal to, nor the complement of, the 62% of loans have no principal left to pay (out_prncp_inv, if I understand that correctly). I don't think it's entirely clear from the data description what the real difference is between these two measures, but whatever. I've now provided two percentages that could describe how many of the loans \"are recovered.\" "
   ]
  },
  {
   "cell_type": "markdown",
   "metadata": {},
   "source": [
    "Of interest is the \"against the investor\" portion of the prompt--- my question is, do you want me to identify the percentage of recoveries **per member_id**?? That's the closest to a variable that indicates a human being involved in the transaction; however, that is, according to the loan_data_dict, an identifier of the borrower, not the investor (who would be lending). So that interpretation may be a stretch. \n",
    "\n",
    "- **id**: unique id of the loan\n",
    "- **member_id**: id of the member to took out the loan\n",
    "\n",
    "Furthermore, this seems like a needlessly arguous (because it's unlike to lead to meaningful insights) task unless there are 20 or fewer investors. So I'll check that before I do anything crazy: "
   ]
  },
  {
   "cell_type": "code",
   "execution_count": 17,
   "metadata": {},
   "outputs": [
    {
     "data": {
      "text/plain": [
       "54210"
      ]
     },
     "execution_count": 17,
     "metadata": {},
     "output_type": "execute_result"
    }
   ],
   "source": [
    "member_id = finance_df[\"member_id\"]\n",
    "member_id.nunique()"
   ]
  },
  {
   "cell_type": "markdown",
   "metadata": {},
   "source": [
    "54210. Since there are as many unique member_id's as there are loans, it would be pointless to report on percentages with respect to the member_id - they'd all be 0% or 100% individually. "
   ]
  },
  {
   "cell_type": "markdown",
   "metadata": {},
   "source": [
    "The other part of that prompt was to look at percentage of recovered loans \"against total amount funded.\" \n",
    "Perhaps a simple way to consider this would be to look at a binary status of recovery, much as we've been interpreting the 0's in 'recoveries' and 'out_prncp_inv.' I'll identify the mean total loan_amount for each status, 'recovered,' (0), and 'unrecovered' (>0), and see if there's an interesting relationship (or just coincidental difference in means) using box plots and hypothesis testing. \n",
    "\n",
    "**loan_amount**: amount of loan the applicant received"
   ]
  },
  {
   "cell_type": "code",
   "execution_count": 18,
   "metadata": {},
   "outputs": [],
   "source": [
    "#Since the description of \"recoveries\" makes no sense to me, I'm going to consider the out_prncp_inv measure for understanding how many loans are recovered: \n",
    "finance_df_copy = finance_df.copy()\n",
    "\n",
    "cleared_loans = finance_df_copy[finance_df_copy['out_prncp_inv'] == 0]\n",
    "ongoing_loans = finance_df_copy[finance_df_copy['out_prncp_inv'] > 0]"
   ]
  },
  {
   "cell_type": "code",
   "execution_count": 19,
   "metadata": {},
   "outputs": [
    {
     "data": {
      "text/plain": [
       "12368.03452542273"
      ]
     },
     "execution_count": 19,
     "metadata": {},
     "output_type": "execute_result"
    }
   ],
   "source": [
    "cleared_loans[\"loan_amount\"].mean()"
   ]
  },
  {
   "cell_type": "code",
   "execution_count": 20,
   "metadata": {},
   "outputs": [
    {
     "data": {
      "text/plain": [
       "14940.470785629688"
      ]
     },
     "execution_count": 20,
     "metadata": {},
     "output_type": "execute_result"
    }
   ],
   "source": [
    "ongoing_loans[\"loan_amount\"].mean()"
   ]
  },
  {
   "cell_type": "markdown",
   "metadata": {},
   "source": [
    "From the above we can see the average loan amount is higher in the group of still-unpaid loans. (Makes sense. Can't pay it off faster just because you want to, and there's more distance to run.)"
   ]
  },
  {
   "cell_type": "code",
   "execution_count": 22,
   "metadata": {},
   "outputs": [
    {
     "data": {
      "image/png": "[encoded data removed]",
      "text/plain": [
       "<Figure size 640x480 with 1 Axes>"
      ]
     },
     "metadata": {},
     "output_type": "display_data"
    }
   ],
   "source": [
    "# The hypothesis test most suited depends on the distribution of the two datasets being compared. \n",
    "plt.hist(cleared_loans['loan_amount'], bins=100,alpha=0.5,label='cleared_loans', color='teal') \n",
    "plt.hist(ongoing_loans['loan_amount'], bins=100,alpha=0.5,label='ongoing_loans', color = 'violet')\n",
    "plt.xlabel(\"Loan Amounts\")\n",
    "plt.ylabel(\"Frequency\")\n",
    "plt.title(\"Comparative histogram of loan amount distribution between cleared and ongoing loans\")\n",
    "plt.legend()\n",
    "plt.show()"
   ]
  },
  {
   "cell_type": "code",
   "execution_count": null,
   "metadata": {},
   "outputs": [],
   "source": [
    "#Now do a hypothesis test with Kolmogorov-Smirnov test: \n",
    "\"\"\"\n",
    "statistic, p_value = ks_2samp(ongoing_loans[\"loan_amount\"], cleared_loans[\"loan_amount\"])\n",
    "\n",
    "alpha = 0.05 # Sig lvl \n",
    "if p_value < alpha: \n",
    "    print(f\"Since {p_value} is less than 0.05, we have enough evidence to reject the null hypothesis: the loan amounts of the cleared loans are markedly different from the loan amounts of the ongoing loans.\")\n",
    "else: \n",
    "    print(f\"Since {p_value} is greater than 0.05, there isn't enough evidence to reject the null. loan amounts from both samples may come from the same population.\")\n",
    "    \"\"\"\n",
    "# miniconda issues couldn't create/activate environment or install scipy. "
   ]
  },
  {
   "cell_type": "markdown",
   "metadata": {},
   "source": [
    "1. Summarise currently what percentage of the loans are recovered against the investor funding and the total amount funded. \n",
    "2. Visualise the results of the above. \n",
    "3. Visualise what percentage of the total amount would be recovered up to 6 months in the future. "
   ]
  },
  {
   "cell_type": "markdown",
   "metadata": {},
   "source": [
    "Frankly I'm miles behind so this is no longer about doing the job well-- just getting it done. \n",
    "In which case, consider 1 and 2 done, on to prompt number 3--- what does this mean? \n",
    "I guess I'll need to model out_prncp_inv against something time related... let's just pick something: last_payment_date. "
   ]
  },
  {
   "cell_type": "code",
   "execution_count": 7,
   "metadata": {},
   "outputs": [
    {
     "data": {
      "image/png": "[encoded data removed]",
      "text/plain": [
       "<Figure size 1500x900 with 1 Axes>"
      ]
     },
     "metadata": {},
     "output_type": "display_data"
    }
   ],
   "source": [
    "\n",
    "# Calculate the ratio 1 - out_prncp_inv / loan_amount\n",
    "finance_df['ratio'] = 1 - finance_df['out_prncp_inv'] / finance_df['loan_amount']\n",
    "\n",
    "# Group by 'last_payment_date' and calculate mean of the ratio\n",
    "grouped_df = finance_df.groupby('last_payment_date')['ratio'].mean().reset_index()\n",
    "\n",
    "# Plotting parameters\n",
    "x_column = 'last_payment_date'\n",
    "y_column = 'ratio'\n",
    "title = 'Ratio (1 - out_prncp_inv / loan_amount) vs last_payment_date'\n",
    "x_label = 'Last Payment Date'\n",
    "y_label = 'Percentage Paid off loan'\n",
    "\n",
    "# Create scatterplot\n",
    "plt.figure(figsize=(15, 9))\n",
    "plt.scatter(grouped_df[x_column], grouped_df[y_column], alpha=0.5)\n",
    "plt.title(title)\n",
    "plt.xlabel(x_label)\n",
    "plt.ylabel(y_label)\n",
    "plt.grid(True)\n",
    "plt.show()"
   ]
  },
  {
   "cell_type": "markdown",
   "metadata": {},
   "source": [
    "Extrapolating with a line of best fit seems unfair, since the trend is essentially \"the most recent payments are attached to a hodge podge of loans and before that, it's a monolith.\" To visualise, I would say, imagine the last six months, slid forward. Especially since new loans will no doubt be created in that time.  "
   ]
  },
  {
   "cell_type": "markdown",
   "metadata": {},
   "source": [
    "# Milestone 4: Task 2: Calculating loss \n",
    "Calculate the percentage of \"Charged Off\" (in the loan_status column) loans \"historically\" (what do you mean here? All data is from the past.) and the total amount that was paid towards these loans before being charged off. \n"
   ]
  },
  {
   "cell_type": "code",
   "execution_count": 14,
   "metadata": {},
   "outputs": [
    {
     "data": {
      "text/plain": [
       "loan_status\n",
       "Fully Paid                                             27037\n",
       "Current                                                19263\n",
       "Charged Off                                             5561\n",
       "Does not meet the credit policy. Status:Fully Paid       982\n",
       "Late (31-120 days)                                       580\n",
       "Does not meet the credit policy. Status:Charged Off      364\n",
       "In Grace Period                                          265\n",
       "Late (16-30 days)                                        106\n",
       "Default                                                   52\n",
       "Name: count, dtype: int64"
      ]
     },
     "execution_count": 14,
     "metadata": {},
     "output_type": "execute_result"
    }
   ],
   "source": [
    "# First, What percentage of loans were charged off? \n",
    "\n",
    "finance_df['loan_status'].count() # 54210\n",
    "finance_df['loan_status'].value_counts() # Reveals Charged Off has 5561 entries\n",
    "\n"
   ]
  },
  {
   "cell_type": "code",
   "execution_count": 15,
   "metadata": {},
   "outputs": [
    {
     "data": {
      "text/plain": [
       "0.10258254934513927"
      ]
     },
     "execution_count": 15,
     "metadata": {},
     "output_type": "execute_result"
    }
   ],
   "source": [
    "5561/54210 # = 10.3% "
   ]
  },
  {
   "cell_type": "markdown",
   "metadata": {},
   "source": [
    "About 10 percent of loans have been Charged Off. Now to work out the total amount that was paid towards these loans before they were charged off. \n",
    "Sounds like a job for **total_payment**: Payments received to date for total amount funded."
   ]
  },
  {
   "cell_type": "code",
   "execution_count": 16,
   "metadata": {},
   "outputs": [
    {
     "data": {
      "text/plain": [
       "37152531.31770619"
      ]
     },
     "execution_count": 16,
     "metadata": {},
     "output_type": "execute_result"
    }
   ],
   "source": [
    "finance_df.loc[finance_df['loan_status'] == 'Charged Off', 'total_payment'].sum()"
   ]
  },
  {
   "cell_type": "markdown",
   "metadata": {},
   "source": [
    "So in total 37,152,531.32 was paid towards these loans before they were 'Charged Off.' "
   ]
  },
  {
   "cell_type": "markdown",
   "metadata": {},
   "source": [
    "### Task 3: Calculating Projected Loss \n",
    "Prompt 1: Calculate the projected loss of the loans marked as Charged Off.\n",
    "    - By this I'll assume you mean the total above subtracted from all 'Charged Off' loans' original worth. \n",
    "2: Calculate the loss in revenue these loans would have generated for the company if they had finished their term. \n",
    "    - By this I'll assume you mean subtract the above from the sum of all 'Charged Off' loans' final worth. \n",
    "3: Visualise the loss projected over the remaining term of these loans.\n",
    "    - And here I guess you want a graph that shows the sum of the above but for each individual loan, versus 'issue_date' + 'term.' \n",
    "\n",
    "Probably simplest way to do this is use boolean indexing at the start to create a sub-df of just those key features, including considering only 'Charged Off' loans. "
   ]
  },
  {
   "cell_type": "code",
   "execution_count": 21,
   "metadata": {},
   "outputs": [
    {
     "data": {
      "text/plain": [
       "(5561, 42)"
      ]
     },
     "execution_count": 21,
     "metadata": {},
     "output_type": "execute_result"
    }
   ],
   "source": [
    "# Create sub-dataframe \n",
    "\n",
    "charged_off_df = finance_df.loc[finance_df['loan_status'] == 'Charged Off'].copy()\n",
    "\n",
    "charged_off_df.shape"
   ]
  },
  {
   "cell_type": "code",
   "execution_count": 22,
   "metadata": {},
   "outputs": [
    {
     "data": {
      "text/plain": [
       "76123800"
      ]
     },
     "execution_count": 22,
     "metadata": {},
     "output_type": "execute_result"
    }
   ],
   "source": [
    "# Original Worth is probably represented by 'loan_amount' \n",
    "\n",
    "charged_off_df['loan_amount'].sum() # 76123800"
   ]
  },
  {
   "cell_type": "code",
   "execution_count": 24,
   "metadata": {},
   "outputs": [
    {
     "data": {
      "text/plain": [
       "38971268.68"
      ]
     },
     "execution_count": 24,
     "metadata": {},
     "output_type": "execute_result"
    }
   ],
   "source": [
    "# So projected loss is: \n",
    "76123800 - 37152531.32 # = 38,971,268.68"
   ]
  },
  {
   "cell_type": "markdown",
   "metadata": {},
   "source": [
    "There's prompt 1 done. Prompt 2's about the loan's *potential* value, were it paid off over time. So we need to use the formula using the following two parameters for each row... \n",
    "- **term**: The number of monthly payments for the loan\n",
    "- **int_rate**: Interest rate on the loan\n",
    "For my own sanity I'll assume your interest rates are monthly as well. \n",
    "\n",
    "So A = P x (1+ i/100)^t \n",
    "\n",
    "Or, for a single loan, \n",
    "\n",
    "A = loan_amount * (1 + int_rate/100) ** term "
   ]
  },
  {
   "cell_type": "code",
   "execution_count": 29,
   "metadata": {},
   "outputs": [
    {
     "name": "stdout",
     "output_type": "stream",
     "text": [
      "<class 'pandas.core.frame.DataFrame'>\n",
      "Index: 5561 entries, 7 to 54177\n",
      "Data columns (total 42 columns):\n",
      " #   Column                      Non-Null Count  Dtype  \n",
      "---  ------                      --------------  -----  \n",
      " 0   Unnamed: 0                  5561 non-null   int64  \n",
      " 1   id                          5561 non-null   int64  \n",
      " 2   member_id                   5561 non-null   int64  \n",
      " 3   loan_amount                 5561 non-null   int64  \n",
      " 4   funded_amount               5561 non-null   float64\n",
      " 5   funded_amount_inv           5561 non-null   float64\n",
      " 6   term_length_in_months       5561 non-null   float64\n",
      " 7   int_rate                    5561 non-null   float64\n",
      " 8   instalment                  5561 non-null   float64\n",
      " 9   grade                       5561 non-null   object \n",
      " 10  sub_grade                   5561 non-null   object \n",
      " 11  years_of_employment         5561 non-null   float64\n",
      " 12  home_ownership              5561 non-null   object \n",
      " 13  annual_inc                  5561 non-null   float64\n",
      " 14  verification_status         5561 non-null   object \n",
      " 15  issue_date                  5561 non-null   object \n",
      " 16  loan_status                 5561 non-null   object \n",
      " 17  payment_plan                5561 non-null   object \n",
      " 18  purpose                     5561 non-null   object \n",
      " 19  dti                         5561 non-null   float64\n",
      " 20  delinq_2yrs                 5561 non-null   int64  \n",
      " 21  earliest_credit_line        5561 non-null   object \n",
      " 22  inq_last_6mths              5561 non-null   int64  \n",
      " 23  open_accounts               5561 non-null   int64  \n",
      " 24  total_accounts              5561 non-null   int64  \n",
      " 25  out_prncp                   5561 non-null   float64\n",
      " 26  out_prncp_inv               5561 non-null   float64\n",
      " 27  total_payment               5561 non-null   float64\n",
      " 28  total_payment_inv           5561 non-null   float64\n",
      " 29  total_rec_prncp             5561 non-null   float64\n",
      " 30  total_rec_int               5561 non-null   float64\n",
      " 31  total_rec_late_fee          5561 non-null   float64\n",
      " 32  recoveries                  5561 non-null   float64\n",
      " 33  collection_recovery_fee     5561 non-null   float64\n",
      " 34  last_payment_date           5561 non-null   object \n",
      " 35  last_payment_amount         5561 non-null   float64\n",
      " 36  next_payment_date           5561 non-null   object \n",
      " 37  last_credit_pull_date       5561 non-null   object \n",
      " 38  collections_12_mths_ex_med  5561 non-null   float64\n",
      " 39  policy_code                 5561 non-null   int64  \n",
      " 40  application_type            5561 non-null   object \n",
      " 41  ratio                       5561 non-null   float64\n",
      "dtypes: float64(20), int64(9), object(13)\n",
      "memory usage: 1.8+ MB\n"
     ]
    }
   ],
   "source": [
    "charged_off_df.info()\n"
   ]
  },
  {
   "cell_type": "code",
   "execution_count": 30,
   "metadata": {},
   "outputs": [
    {
     "name": "stdout",
     "output_type": "stream",
     "text": [
      "Total sum of A: 3660676245975.542\n"
     ]
    }
   ],
   "source": [
    "# Calculate A for every row\n",
    "charged_off_df['A'] = charged_off_df['loan_amount'] * (1 + charged_off_df['int_rate'] / 100) ** charged_off_df['term_length_in_months']\n",
    "\n",
    "# Find the sum of all values of A\n",
    "total_A = charged_off_df['A'].sum()\n",
    "\n",
    "print(\"Total sum of A:\", total_A)\n"
   ]
  },
  {
   "cell_type": "markdown",
   "metadata": {},
   "source": [
    "So all the A's add up to 3660676245975.542! Answering prompt 2: "
   ]
  },
  {
   "cell_type": "code",
   "execution_count": 31,
   "metadata": {},
   "outputs": [
    {
     "data": {
      "text/plain": [
       "3660639093444.222"
      ]
     },
     "execution_count": 31,
     "metadata": {},
     "output_type": "execute_result"
    }
   ],
   "source": [
    "3660676245975.542 - 37152531.32"
   ]
  },
  {
   "cell_type": "markdown",
   "metadata": {},
   "source": [
    "Loss of possible earnings, had the loans been paid in full to term: \n",
    "3660639093444.222\n",
    "On to prompt 3: \n",
    "\n",
    "I think this will be along the lines of an itemised version of the above differences, plotted against issue_date + term. "
   ]
  },
  {
   "cell_type": "code",
   "execution_count": 47,
   "metadata": {},
   "outputs": [],
   "source": [
    "\"\"\"\n",
    "date = 2021-01-01 00:00:00 \n",
    "\n",
    "  Cell In[43], line 1\n",
    "    date = 2021-01-01 00:00:00\n",
    "                ^\n",
    "SyntaxError: leading zeros in decimal integer literals are not permitted; use an 0o prefix for octal intege\n",
    "\n",
    "term = 36.0 \n",
    "\n",
    "date + term\n",
    "\"\"\"\n",
    "\n",
    "# THe code below was a sample of the date and term length formats I'm workign with, so see waht would happen. Got an error about the date format. Will need to parse the issue_date into year-month. \n",
    "\n",
    "# charged_off_df['issue_date'].dtypes # oh my this never got through the cleaning process. \n",
    "\n",
    "charged_off_df['issue_date'] = pd.to_datetime(charged_off_df['issue_date'])\n"
   ]
  },
  {
   "cell_type": "code",
   "execution_count": 48,
   "metadata": {},
   "outputs": [],
   "source": [
    "finance_df['issue_date'] = pd.to_datetime(finance_df['issue_date']) # while we're at it. "
   ]
  },
  {
   "cell_type": "code",
   "execution_count": 49,
   "metadata": {},
   "outputs": [
    {
     "data": {
      "text/plain": [
       "dtype('<M8[ns]')"
      ]
     },
     "execution_count": 49,
     "metadata": {},
     "output_type": "execute_result"
    }
   ],
   "source": [
    "charged_off_df['issue_date'].dtype"
   ]
  },
  {
   "cell_type": "markdown",
   "metadata": {},
   "source": [
    "In order to add date with float, I'm applying a modifier suggested by ChatGPT, with the caveat that it uses an estimate of 30 days per month. "
   ]
  },
  {
   "cell_type": "code",
   "execution_count": 50,
   "metadata": {},
   "outputs": [],
   "source": [
    "charged_off_df['end_date'] = charged_off_df.apply(lambda row: row['issue_date'] + pd.DateOffset(months=row['term_length_in_months']), axis=1)\n"
   ]
  },
  {
   "cell_type": "markdown",
   "metadata": {},
   "source": []
  }
 ],
 "metadata": {
  "kernelspec": {
   "display_name": "EDA_AiCore_env",
   "language": "python",
   "name": "python3"
  },
  "language_info": {
   "codemirror_mode": {
    "name": "ipython",
    "version": 3
   },
   "file_extension": ".py",
   "mimetype": "text/x-python",
   "name": "python",
   "nbconvert_exporter": "python",
   "pygments_lexer": "ipython3",
   "version": "3.12.1"
  }
 },
 "nbformat": 4,
 "nbformat_minor": 2
}
