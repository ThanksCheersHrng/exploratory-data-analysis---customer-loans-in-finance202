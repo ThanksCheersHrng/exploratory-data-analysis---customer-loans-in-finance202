{
 "cells": [
  {
   "cell_type": "markdown",
   "metadata": {},
   "source": [
    "# Milestone 4: Analysis and Visualisation "
   ]
  },
  {
   "cell_type": "code",
   "execution_count": 1,
   "metadata": {},
   "outputs": [],
   "source": [
    "# Preamble - imports \n",
    "import pandas as pd\n",
    "import numpy as np \n",
    "import matplotlib.pyplot as plt \n",
    "import seaborn as sbn "
   ]
  },
  {
   "cell_type": "code",
   "execution_count": 2,
   "metadata": {},
   "outputs": [],
   "source": [
    "# finance_df = pd.read_csv(\"df_after_Task_6.csv\") # All should be cleaned now, dates parsed, etc. \n",
    "# type(finance_df) # confirming it's a pd.df :)  \n",
    "# I've commented out the df above since it got rid of all my useful columns- I will use the data 'cleaned' up to but not including the removal of highly correlated columns instead. \n",
    "finance_df = pd.read_csv(\"df_end_of_Task_5.csv\")"
   ]
  },
  {
   "cell_type": "markdown",
   "metadata": {},
   "source": [
    "**Aside:** Upon trying to find suitable columns to 'summarise currently what percentage of the loans are recovered against hte investor funding and the total amount funded,' I realised that data cleaning task number 6 removed all the potentially appropriate columns for that task, namely: \n",
    "- **out_prncp**: Remaining outstanding principal for total amount funded\n",
    "- **out_prncp_inv**: Remaining outstanding principal for portion of total amount funded by investors\n",
    "- **total_payment**: Payments received to date for total amount funded\n",
    "\n",
    "I am shocked by the pedagogical blundering that would lead to such an oversight- students don't know where they're going or what sort of analysis will be asked of them, so they don't know how to properly clean the data without utterly destroying its utility, and the casually wirtten data 'cleaning' prompts encourage a cavalier attitude about maintaining data. \n",
    "\n",
    "This is why I'm importing the csv from the end of task 5 instead of task 6. "
   ]
  },
  {
   "cell_type": "code",
   "execution_count": null,
   "metadata": {},
   "outputs": [],
   "source": [
    "# print(finance_df.dtypes) # plopped into loan_data_dict.md for further reference. "
   ]
  },
  {
   "cell_type": "markdown",
   "metadata": {},
   "source": [
    "## Task 1: Current state of loans \n",
    "1. Summarise currently what percentage of the loans are recovered against the investor funding and the total amount funded. \n",
    "2. Visualise the results of the above. \n",
    "3. Visualise what percentage of the total amount would be recovered up to 6 months in the future. "
   ]
  },
  {
   "cell_type": "markdown",
   "metadata": {},
   "source": [
    "For the first prompt, I'll use the following columns: \n",
    "- **out_prncp_inv**: Remaining outstanding principal for portion of total amount funded by investors"
   ]
  },
  {
   "cell_type": "code",
   "execution_count": 1,
   "metadata": {},
   "outputs": [
    {
     "ename": "NameError",
     "evalue": "name 'finance_df' is not defined",
     "output_type": "error",
     "traceback": [
      "\u001b[1;31m---------------------------------------------------------------------------\u001b[0m",
      "\u001b[1;31mNameError\u001b[0m                                 Traceback (most recent call last)",
      "Cell \u001b[1;32mIn[1], line 1\u001b[0m\n\u001b[1;32m----> 1\u001b[0m out_prncp_inv \u001b[38;5;241m=\u001b[39m \u001b[43mfinance_df\u001b[49m[\u001b[38;5;124m\"\u001b[39m\u001b[38;5;124mout_prncp_inv\u001b[39m\u001b[38;5;124m\"\u001b[39m]\n\u001b[0;32m      3\u001b[0m out_prncp_inv\u001b[38;5;241m.\u001b[39mnlargest(\u001b[38;5;241m10\u001b[39m)\n\u001b[0;32m      5\u001b[0m out_prncp_inv\u001b[38;5;241m.\u001b[39mnsmallest(\u001b[38;5;241m10\u001b[39m)\n",
      "\u001b[1;31mNameError\u001b[0m: name 'finance_df' is not defined"
     ]
    }
   ],
   "source": [
    "out_prncp_inv = finance_df[\"out_prncp_inv\"]\n",
    "\n",
    "out_prncp_inv.nlargest(10)\n",
    "\n",
    "out_prncp_inv.nsmallest(10)\n",
    "\n",
    "out_prncp_inv.mean()\n",
    "\n",
    "out_prncp_inv.median() \n",
    "\n",
    "\n",
    "#out_prncp_inv.head(20)\n"
   ]
  }
 ],
 "metadata": {
  "kernelspec": {
   "display_name": "EDA_AiCore_env",
   "language": "python",
   "name": "python3"
  },
  "language_info": {
   "codemirror_mode": {
    "name": "ipython",
    "version": 3
   },
   "file_extension": ".py",
   "mimetype": "text/x-python",
   "name": "python",
   "nbconvert_exporter": "python",
   "pygments_lexer": "ipython3",
   "version": "3.12.1"
  }
 },
 "nbformat": 4,
 "nbformat_minor": 2
}
