{
 "cells": [
  {
   "cell_type": "markdown",
   "metadata": {},
   "source": [
    "# Milestone 4: Analysis and Visualisation "
   ]
  },
  {
   "cell_type": "code",
   "execution_count": 24,
   "metadata": {},
   "outputs": [
    {
     "ename": "ModuleNotFoundError",
     "evalue": "No module named 'scipy'",
     "output_type": "error",
     "traceback": [
      "\u001b[1;31m---------------------------------------------------------------------------\u001b[0m",
      "\u001b[1;31mModuleNotFoundError\u001b[0m                       Traceback (most recent call last)",
      "Cell \u001b[1;32mIn[24], line 6\u001b[0m\n\u001b[0;32m      4\u001b[0m \u001b[38;5;28;01mimport\u001b[39;00m \u001b[38;5;21;01mmatplotlib\u001b[39;00m\u001b[38;5;21;01m.\u001b[39;00m\u001b[38;5;21;01mpyplot\u001b[39;00m \u001b[38;5;28;01mas\u001b[39;00m \u001b[38;5;21;01mplt\u001b[39;00m \n\u001b[0;32m      5\u001b[0m \u001b[38;5;28;01mimport\u001b[39;00m \u001b[38;5;21;01mseaborn\u001b[39;00m \u001b[38;5;28;01mas\u001b[39;00m \u001b[38;5;21;01msbn\u001b[39;00m \n\u001b[1;32m----> 6\u001b[0m \u001b[38;5;28;01mfrom\u001b[39;00m \u001b[38;5;21;01mscipy\u001b[39;00m\u001b[38;5;21;01m.\u001b[39;00m\u001b[38;5;21;01mstats\u001b[39;00m \u001b[38;5;28;01mimport\u001b[39;00m ks_2samp\n",
      "\u001b[1;31mModuleNotFoundError\u001b[0m: No module named 'scipy'"
     ]
    }
   ],
   "source": [
    "# Preamble - imports \n",
    "import pandas as pd\n",
    "import numpy as np \n",
    "import matplotlib.pyplot as plt \n",
    "import seaborn as sbn \n",
    "# from scipy.stats import ks_2samp"
   ]
  },
  {
   "cell_type": "code",
   "execution_count": 2,
   "metadata": {},
   "outputs": [],
   "source": [
    "# finance_df = pd.read_csv(\"df_after_Task_6.csv\") # All should be cleaned now, dates parsed, etc. \n",
    "# type(finance_df) # confirming it's a pd.df :)  \n",
    "# I've commented out the df above since it got rid of all my useful columns- I will use the data 'cleaned' up to but not including the removal of highly correlated columns instead. \n",
    "finance_df = pd.read_csv(\"df_end_of_Task_5.csv\")"
   ]
  },
  {
   "cell_type": "markdown",
   "metadata": {},
   "source": [
    "**Aside:** Upon trying to find suitable columns to 'summarise currently what percentage of the loans are recovered against hte investor funding and the total amount funded,' I realised that data cleaning task number 6 removed all the potentially appropriate columns for that task, namely: \n",
    "- **out_prncp**: Remaining outstanding principal for total amount funded\n",
    "- **out_prncp_inv**: Remaining outstanding principal for portion of total amount funded by investors\n",
    "- **total_payment**: Payments received to date for total amount funded\n",
    "\n",
    "I am shocked by the pedagogical blundering that would lead to such an oversight- students don't know where they're going or what sort of analysis will be asked of them, so they don't know how to properly clean the data without utterly destroying its utility, and the casually wirtten data 'cleaning' prompts encourage a cavalier attitude about maintaining data. \n",
    "\n",
    "This is why I'm importing the csv from the end of task 5 instead of task 6. "
   ]
  },
  {
   "cell_type": "code",
   "execution_count": null,
   "metadata": {},
   "outputs": [],
   "source": [
    "# print(finance_df.dtypes) # plopped into loan_data_dict.md for further reference. "
   ]
  },
  {
   "cell_type": "markdown",
   "metadata": {},
   "source": [
    "## Task 1: Current state of loans \n",
    "1. Summarise currently what percentage of the loans are recovered against the investor funding and the total amount funded. \n",
    "2. Visualise the results of the above. \n",
    "3. Visualise what percentage of the total amount would be recovered up to 6 months in the future. "
   ]
  },
  {
   "cell_type": "markdown",
   "metadata": {},
   "source": [
    "For the first prompt, I'll use the following columns: \n",
    "- **out_prncp_inv**: Remaining outstanding principal for portion of total amount funded by investors"
   ]
  },
  {
   "cell_type": "code",
   "execution_count": null,
   "metadata": {},
   "outputs": [],
   "source": [
    "out_prncp_inv = finance_df[\"out_prncp_inv\"]\n",
    "\n",
    "#out_prncp_inv.head(20)\n"
   ]
  },
  {
   "cell_type": "code",
   "execution_count": 11,
   "metadata": {},
   "outputs": [
    {
     "name": "stdout",
     "output_type": "stream",
     "text": [
      "(54210, 41) 54210\n"
     ]
    }
   ],
   "source": [
    "print(finance_df.shape, out_prncp_inv.size)"
   ]
  },
  {
   "cell_type": "code",
   "execution_count": 4,
   "metadata": {},
   "outputs": [
    {
     "data": {
      "text/plain": [
       "3219    32399.94\n",
       "1859    31973.38\n",
       "666     31063.10\n",
       "2845    31038.00\n",
       "1763    30981.57\n",
       "1415    30981.55\n",
       "1577    30933.50\n",
       "3783    30933.50\n",
       "1908    30872.20\n",
       "21      30782.74\n",
       "Name: out_prncp_inv, dtype: float64"
      ]
     },
     "execution_count": 4,
     "metadata": {},
     "output_type": "execute_result"
    }
   ],
   "source": [
    "out_prncp_inv.nlargest(10)"
   ]
  },
  {
   "cell_type": "code",
   "execution_count": 5,
   "metadata": {},
   "outputs": [
    {
     "data": {
      "text/plain": [
       "2     0.0\n",
       "3     0.0\n",
       "6     0.0\n",
       "7     0.0\n",
       "25    0.0\n",
       "38    0.0\n",
       "40    0.0\n",
       "42    0.0\n",
       "43    0.0\n",
       "46    0.0\n",
       "Name: out_prncp_inv, dtype: float64"
      ]
     },
     "execution_count": 5,
     "metadata": {},
     "output_type": "execute_result"
    }
   ],
   "source": [
    "out_prncp_inv.nsmallest(10)"
   ]
  },
  {
   "cell_type": "code",
   "execution_count": 6,
   "metadata": {},
   "outputs": [
    {
     "data": {
      "text/plain": [
       "2752.9240243497507"
      ]
     },
     "execution_count": 6,
     "metadata": {},
     "output_type": "execute_result"
    }
   ],
   "source": [
    "\n",
    "out_prncp_inv.mean()"
   ]
  },
  {
   "cell_type": "code",
   "execution_count": 7,
   "metadata": {},
   "outputs": [
    {
     "data": {
      "text/plain": [
       "0.0"
      ]
     },
     "execution_count": 7,
     "metadata": {},
     "output_type": "execute_result"
    }
   ],
   "source": [
    "out_prncp_inv.median()"
   ]
  },
  {
   "cell_type": "markdown",
   "metadata": {},
   "source": [
    "What the stats above tell us is that 50% of loans are fully paid off (The median outstanding is 0.), and out_prncp_inv is measured most likely in pounds or dollars, not as a percentage. (Just checking for quick wins. ;)"
   ]
  },
  {
   "cell_type": "code",
   "execution_count": 8,
   "metadata": {},
   "outputs": [
    {
     "data": {
      "text/plain": [
       "33946"
      ]
     },
     "execution_count": 8,
     "metadata": {},
     "output_type": "execute_result"
    }
   ],
   "source": [
    "(out_prncp_inv==0).sum()"
   ]
  },
  {
   "cell_type": "markdown",
   "metadata": {},
   "source": [
    "From the above I can see there are 33946 zeros (i.e. no outstanding debt, i.e. fully repaid loans) out of 54210, so 62.62% of loans are fully repaid. Task 1's first prompt asks us to summarise what percentage of loans are recovered against the investor funding and total amount funded. The 'against' portions of that question are bit confusing, but I can say 62% of loans have been recovered; I'll check that statement using the recoveries column, and visualise, as requested in prompt two. \n",
    "\n",
    "To recap from loan_data_dict.md: \n",
    "**recoveries**: post charge off gross recovery\n",
    "\n",
    "If they actually are asking what percentage of **money loaned* is recovered, that is a different story... "
   ]
  },
  {
   "cell_type": "code",
   "execution_count": 12,
   "metadata": {},
   "outputs": [
    {
     "name": "stdout",
     "output_type": "stream",
     "text": [
      "54210 29116    16188.880000\n",
      "36980    15236.310000\n",
      "37278    14165.110000\n",
      "37297    14004.010000\n",
      "49268    14000.160000\n",
      "29414    13900.000000\n",
      "8428     13832.920000\n",
      "49140    13777.020000\n",
      "44938    13425.987971\n",
      "37594    12961.320000\n",
      "Name: recoveries, dtype: float64 0    0.0\n",
      "1    0.0\n",
      "2    0.0\n",
      "3    0.0\n",
      "4    0.0\n",
      "5    0.0\n",
      "6    0.0\n",
      "7    0.0\n",
      "8    0.0\n",
      "9    0.0\n",
      "Name: recoveries, dtype: float64 89.52323483605744 0.0\n"
     ]
    }
   ],
   "source": [
    "recoveries = finance_df[\"recoveries\"]\n",
    "print(recoveries.size, recoveries.nlargest(10), recoveries.nsmallest(10))"
   ]
  },
  {
   "cell_type": "code",
   "execution_count": 13,
   "metadata": {},
   "outputs": [
    {
     "data": {
      "text/plain": [
       "89.52323483605744"
      ]
     },
     "execution_count": 13,
     "metadata": {},
     "output_type": "execute_result"
    }
   ],
   "source": [
    "recoveries.mean()"
   ]
  },
  {
   "cell_type": "code",
   "execution_count": 14,
   "metadata": {},
   "outputs": [
    {
     "data": {
      "text/plain": [
       "0.0"
      ]
     },
     "execution_count": 14,
     "metadata": {},
     "output_type": "execute_result"
    }
   ],
   "source": [
    "recoveries.median()"
   ]
  },
  {
   "cell_type": "code",
   "execution_count": 15,
   "metadata": {},
   "outputs": [
    {
     "data": {
      "text/plain": [
       "11.206563566763865"
      ]
     },
     "execution_count": 15,
     "metadata": {},
     "output_type": "execute_result"
    }
   ],
   "source": [
    "# Noticed mean and median different, suggests skew... \n",
    "\n",
    "recoveries.skew() # 11 - yep, highly skewed. "
   ]
  },
  {
   "cell_type": "code",
   "execution_count": 16,
   "metadata": {},
   "outputs": [
    {
     "data": {
      "text/plain": [
       "50558"
      ]
     },
     "execution_count": 16,
     "metadata": {},
     "output_type": "execute_result"
    }
   ],
   "source": [
    "#So how many recoveries are at 0? \n",
    "(recoveries==0).sum()"
   ]
  },
  {
   "cell_type": "markdown",
   "metadata": {},
   "source": [
    "As you can see from the above, a whopping 50558/54210 = 93.26% of recoveries are at 0; this is neither equal to, nor the complement of, the 62% of loans have no principal left to pay (out_prncp_inv, if I understand that correctly). I don't think it's entirely clear from the data description what the real difference is between these two measures, but whatever. I've now provided two percentages that could describe how many of the loans \"are recovered.\" "
   ]
  },
  {
   "cell_type": "markdown",
   "metadata": {},
   "source": [
    "Of interest is the \"against the investor\" portion of the prompt--- my question is, do you want me to identify the percentage of recoveries **per member_id**?? That's the closest to a variable that indicates a human being involved in the transaction; however, that is, according to the loan_data_dict, an identifier of the borrower, not the investor (who would be lending). So that interpretation may be a stretch. \n",
    "\n",
    "- **id**: unique id of the loan\n",
    "- **member_id**: id of the member to took out the loan\n",
    "\n",
    "Furthermore, this seems like a needlessly arguous (because it's unlike to lead to meaningful insights) task unless there are 20 or fewer investors. So I'll check that before I do anything crazy: "
   ]
  },
  {
   "cell_type": "code",
   "execution_count": 17,
   "metadata": {},
   "outputs": [
    {
     "data": {
      "text/plain": [
       "54210"
      ]
     },
     "execution_count": 17,
     "metadata": {},
     "output_type": "execute_result"
    }
   ],
   "source": [
    "member_id = finance_df[\"member_id\"]\n",
    "member_id.nunique()"
   ]
  },
  {
   "cell_type": "markdown",
   "metadata": {},
   "source": [
    "54210. Since there are as many unique member_id's as there are loans, it would be pointless to report on percentages with respect to the member_id - they'd all be 0% or 100% individually. "
   ]
  },
  {
   "cell_type": "markdown",
   "metadata": {},
   "source": [
    "The other part of that prompt was to look at percentage of recovered loans \"against total amount funded.\" \n",
    "Perhaps a simple way to consider this would be to look at a binary status of recovery, much as we've been interpreting the 0's in 'recoveries' and 'out_prncp_inv.' I'll identify the mean total loan_amount for each status, 'recovered,' (0), and 'unrecovered' (>0), and see if there's an interesting relationship (or just coincidental difference in means) using box plots and hypothesis testing. \n",
    "\n",
    "**loan_amount**: amount of loan the applicant received"
   ]
  },
  {
   "cell_type": "code",
   "execution_count": 18,
   "metadata": {},
   "outputs": [],
   "source": [
    "#Since the description of \"recoveries\" makes no sense to me, I'm going to consider the out_prncp_inv measure for understanding how many loans are recovered: \n",
    "finance_df_copy = finance_df.copy()\n",
    "\n",
    "cleared_loans = finance_df_copy[finance_df_copy['out_prncp_inv'] == 0]\n",
    "ongoing_loans = finance_df_copy[finance_df_copy['out_prncp_inv'] > 0]"
   ]
  },
  {
   "cell_type": "code",
   "execution_count": 19,
   "metadata": {},
   "outputs": [
    {
     "data": {
      "text/plain": [
       "12368.03452542273"
      ]
     },
     "execution_count": 19,
     "metadata": {},
     "output_type": "execute_result"
    }
   ],
   "source": [
    "cleared_loans[\"loan_amount\"].mean()"
   ]
  },
  {
   "cell_type": "code",
   "execution_count": 20,
   "metadata": {},
   "outputs": [
    {
     "data": {
      "text/plain": [
       "14940.470785629688"
      ]
     },
     "execution_count": 20,
     "metadata": {},
     "output_type": "execute_result"
    }
   ],
   "source": [
    "ongoing_loans[\"loan_amount\"].mean()"
   ]
  },
  {
   "cell_type": "markdown",
   "metadata": {},
   "source": [
    "From the above we can see the average loan amount is higher in the group of still-unpaid loans. (Makes sense. Can't pay it off faster just because you want to, and there's more distance to run.)"
   ]
  },
  {
   "cell_type": "code",
   "execution_count": 22,
   "metadata": {},
   "outputs": [
    {
     "data": {
      "image/png": "[encoded data removed]",
      "text/plain": [
       "<Figure size 640x480 with 1 Axes>"
      ]
     },
     "metadata": {},
     "output_type": "display_data"
    }
   ],
   "source": [
    "# The hypothesis test most suited depends on the distribution of the two datasets being compared. \n",
    "plt.hist(cleared_loans['loan_amount'], bins=100,alpha=0.5,label='cleared_loans', color='teal') \n",
    "plt.hist(ongoing_loans['loan_amount'], bins=100,alpha=0.5,label='ongoing_loans', color = 'violet')\n",
    "plt.xlabel(\"Loan Amounts\")\n",
    "plt.ylabel(\"Frequency\")\n",
    "plt.title(\"Comparative histogram of loan amount distribution between cleared and ongoing loans\")\n",
    "plt.legend()\n",
    "plt.show()"
   ]
  },
  {
   "cell_type": "code",
   "execution_count": null,
   "metadata": {},
   "outputs": [],
   "source": [
    "#Now do a hypothesis test with Kolmogorov-Smirnov test: \n",
    "\"\"\"\n",
    "statistic, p_value = ks_2samp(ongoing_loans[\"loan_amount\"], cleared_loans[\"loan_amount\"])\n",
    "\n",
    "alpha = 0.05 # Sig lvl \n",
    "if p_value < alpha: \n",
    "    print(f\"Since {p_value} is less than 0.05, we have enough evidence to reject the null hypothesis: the loan amounts of the cleared loans are markedly different from the loan amounts of the ongoing loans.\")\n",
    "else: \n",
    "    print(f\"Since {p_value} is greater than 0.05, there isn't enough evidence to reject the null. loan amounts from both samples may come from the same population.\")\n",
    "    \"\"\""
   ]
  },
  {
   "cell_type": "markdown",
   "metadata": {},
   "source": [
    "1. Summarise currently what percentage of the loans are recovered against the investor funding and the total amount funded. \n",
    "2. Visualise the results of the above. \n",
    "3. Visualise what percentage of the total amount would be recovered up to 6 months in the future. "
   ]
  }
 ],
 "metadata": {
  "kernelspec": {
   "display_name": "EDA_AiCore_env",
   "language": "python",
   "name": "python3"
  },
  "language_info": {
   "codemirror_mode": {
    "name": "ipython",
    "version": 3
   },
   "file_extension": ".py",
   "mimetype": "text/x-python",
   "name": "python",
   "nbconvert_exporter": "python",
   "pygments_lexer": "ipython3",
   "version": "3.12.1"
  }
 },
 "nbformat": 4,
 "nbformat_minor": 2
}
