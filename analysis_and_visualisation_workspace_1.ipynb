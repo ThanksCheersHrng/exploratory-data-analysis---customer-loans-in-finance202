{
 "cells": [
  {
   "cell_type": "markdown",
   "metadata": {},
   "source": [
    "# Milestone 4: Analysia and Visualisation "
   ]
  },
  {
   "cell_type": "code",
   "execution_count": null,
   "metadata": {},
   "outputs": [],
   "source": [
    "# Preamble - imports \n",
    "import pandas as pd\n",
    "import numpy as np \n",
    "import matplotlib.pyplot as plt \n",
    "import seaborn as sbn "
   ]
  },
  {
   "cell_type": "code",
   "execution_count": null,
   "metadata": {},
   "outputs": [],
   "source": [
    "finance_df = pd.read_csv(\"df_after_Task_6.csv\") # All should be cleaned now, dates parsed, etc. \n",
    "type(finance_df)"
   ]
  },
  {
   "cell_type": "markdown",
   "metadata": {},
   "source": [
    "# Milestone 4: Analysis and Visualisation \n",
    "## Task 1: Current state of loans \n",
    "Summarise currently what percentage of the loans are recovered against the investor funding and the total amount funded. \n",
    "Visualise the results of the above. \n",
    "Visualise what percentage of the total amount would be recovered up to 6 months in the future. "
   ]
  },
  {
   "cell_type": "markdown",
   "metadata": {},
   "source": []
  }
 ],
 "metadata": {
  "language_info": {
   "name": "python"
  }
 },
 "nbformat": 4,
 "nbformat_minor": 2
}
