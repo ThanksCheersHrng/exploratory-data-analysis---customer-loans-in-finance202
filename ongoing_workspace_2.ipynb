{
 "cells": [
  {
   "cell_type": "markdown",
   "metadata": {},
   "source": [
    "This page is taking over the functionality of ongoing_workspace.ipynb, so that I can import the data frame as it is currently saved, and run things more efficiently, now that Tasks 1-4 are complete. "
   ]
  },
  {
   "cell_type": "code",
   "execution_count": 30,
   "metadata": {},
   "outputs": [],
   "source": [
    "# Preamble - imports \n",
    "import numpy as np\n",
    "import pandas as pd  \n",
    "import data_cleaning_for_EDA as dc \n",
    "import matplotlib.pyplot as plt\n",
    "import seaborn as sns\n",
    "import imputing_methods as im "
   ]
  },
  {
   "cell_type": "code",
   "execution_count": 31,
   "metadata": {},
   "outputs": [],
   "source": [
    "# Preamble - Multiple Inheritance Class \n",
    "class MultipleInheritanceTestClass(im.Plotter, im.DataFrameTransform, dc.DataFrameInfo):\n",
    "    def export_to_csv(self, filename):\n",
    "        self.data_frame.to_csv(filename, index=False)\n",
    "        print(f\"DataFrame exported to {filename}\")"
   ]
  },
  {
   "cell_type": "code",
   "execution_count": 17,
   "metadata": {},
   "outputs": [
    {
     "data": {
      "text/plain": [
       "pandas.core.frame.DataFrame"
      ]
     },
     "execution_count": 17,
     "metadata": {},
     "output_type": "execute_result"
    }
   ],
   "source": [
    "# Preamble - data read in\n",
    "df_df = pd.read_csv(\"df_end_of_Task_4.csv\")\n",
    "# ensure it's a data frame at this stage so everything inherits correctly in the next step. \n",
    "type(df_df)\n"
   ]
  },
  {
   "cell_type": "code",
   "execution_count": 32,
   "metadata": {},
   "outputs": [],
   "source": [
    "df = MultipleInheritanceTestClass(df_df)"
   ]
  },
  {
   "cell_type": "markdown",
   "metadata": {},
   "source": [
    "Task 5: Remove outliers  (Let the record show that as a statistician I do not condone willfully ignoring extereme-yet-possible data! I do so for the purposes of this task.)\n",
    "\n",
    "Step 1: Visualise with Plotter class to determine if coumns contain outliers. \n",
    "I think the best way to indicate that something is an outlier is to plot the actual values against the expected values (were the data Gaussian) in a QQNorm plot. However, since I already plotted loads of this data and identified many non-Gaussian-looking distributions (that's even after \"skew adjustment,\" another statistically questionable practise), I don't think a Normal QQ plot would tell me anything meaningful about outliers. \n",
    "\n",
    "I think the best I can offer right now is a box plot. It turs out there's a handy showfliers argument in the sns.boxplot() method-- see Plotter class, where I've added the boxplot_with_outliers() method. "
   ]
  },
  {
   "cell_type": "code",
   "execution_count": 38,
   "metadata": {},
   "outputs": [
    {
     "name": "stdout",
     "output_type": "stream",
     "text": [
      "<class '__main__.MultipleInheritanceTestClass'>\n",
      "Index(['Unnamed: 0', 'id', 'member_id', 'loan_amount', 'funded_amount',\n",
      "       'funded_amount_inv', 'term_length_in_months', 'int_rate', 'instalment',\n",
      "       'grade', 'sub_grade', 'years_of_employment', 'home_ownership',\n",
      "       'annual_inc', 'verification_status', 'issue_date', 'loan_status',\n",
      "       'payment_plan', 'purpose', 'dti', 'delinq_2yrs', 'earliest_credit_line',\n",
      "       'inq_last_6mths', 'open_accounts', 'total_accounts', 'out_prncp',\n",
      "       'out_prncp_inv', 'total_payment', 'total_payment_inv',\n",
      "       'total_rec_prncp', 'total_rec_int', 'total_rec_late_fee', 'recoveries',\n",
      "       'collection_recovery_fee', 'last_payment_date', 'last_payment_amount',\n",
      "       'next_payment_date', 'last_credit_pull_date',\n",
      "       'collections_12_mths_ex_med', 'policy_code', 'application_type'],\n",
      "      dtype='object')\n",
      "<class 'NoneType'>\n",
      "         Unnamed: 0            id     member_id   loan_amount  funded_amount  \\\n",
      "count  54231.000000  5.423100e+04  5.423100e+04  54231.000000   54231.000000   \n",
      "mean   27115.000000  7.621797e+06  8.655350e+06  13333.076100   13161.335306   \n",
      "std    15655.285561  9.571362e+06  1.031281e+07   8082.196709    7798.601691   \n",
      "min        0.000000  5.552100e+04  7.069400e+04    500.000000     500.000000   \n",
      "25%    13557.500000  7.594330e+05  9.587720e+05   7000.000000    7200.000000   \n",
      "50%    27115.000000  7.084590e+06  8.709873e+06  12000.000000   12000.000000   \n",
      "75%    40672.500000  8.860616e+06  1.052714e+07  18000.000000   18000.000000   \n",
      "max    54230.000000  3.867612e+07  4.146185e+07  35000.000000   35000.000000   \n",
      "\n",
      "       funded_amount_inv  term_length_in_months      int_rate    instalment  \\\n",
      "count       54231.000000           54231.000000  54231.000000  54231.000000   \n",
      "mean        12952.622979              42.024894     13.474223    400.013953   \n",
      "std          8099.473527              10.406733      4.179539    238.920012   \n",
      "min             0.000000              36.000000      5.420000     15.670000   \n",
      "25%          6700.000000              36.000000     10.650000    224.205000   \n",
      "50%         11300.000000              36.000000     13.160000    347.150000   \n",
      "75%         18000.000000              60.000000     15.880000    527.550000   \n",
      "max         35000.000000              60.000000     26.060000   1407.010000   \n",
      "\n",
      "       years_of_employment  ...  total_payment  total_payment_inv  \\\n",
      "count         54231.000000  ...   54231.000000       54231.000000   \n",
      "mean              5.795652  ...   12079.208480       11788.946618   \n",
      "std               3.439124  ...    8391.043845        8363.508506   \n",
      "min               1.000000  ...       0.000000           0.000000   \n",
      "25%               2.000000  ...    5895.210000        5658.815000   \n",
      "50%               6.000000  ...   10113.250000        9835.830000   \n",
      "75%              10.000000  ...   16272.895000       15978.200000   \n",
      "max              10.000000  ...   55758.222084       55061.000000   \n",
      "\n",
      "       total_rec_prncp  total_rec_int  total_rec_late_fee    recoveries  \\\n",
      "count     54231.000000   54231.000000        54231.000000  54231.000000   \n",
      "mean       9407.048589    2577.757101            0.901512     93.501288   \n",
      "std        6958.124264    2581.657345            6.215792    630.843636   \n",
      "min           0.000000       0.000000            0.000000      0.000000   \n",
      "25%        4264.350000     889.560000            0.000000      0.000000   \n",
      "50%        7644.920000    1734.640000            0.000000      0.000000   \n",
      "75%       12505.625000    3323.765000            0.000000      0.000000   \n",
      "max       35000.020000   23062.450000          358.680000  27750.000000   \n",
      "\n",
      "       collection_recovery_fee  last_payment_amount  \\\n",
      "count             54231.000000         54231.000000   \n",
      "mean                 10.859057          3130.706393   \n",
      "std                 120.193950          5323.801675   \n",
      "min                   0.000000             0.000000   \n",
      "25%                   0.000000           289.790000   \n",
      "50%                   0.000000           562.670000   \n",
      "75%                   0.000000          3738.120000   \n",
      "max                7002.190000         36115.200000   \n",
      "\n",
      "       collections_12_mths_ex_med  policy_code  \n",
      "count                54231.000000      54231.0  \n",
      "mean                     0.004204          1.0  \n",
      "std                      0.070957          0.0  \n",
      "min                      0.000000          1.0  \n",
      "25%                      0.000000          1.0  \n",
      "50%                      0.000000          1.0  \n",
      "75%                      0.000000          1.0  \n",
      "max                      4.000000          1.0  \n",
      "\n",
      "[8 rows x 28 columns]\n"
     ]
    }
   ],
   "source": [
    "# Troubleshooting checks \n",
    "print(type(df))\n",
    "\n",
    "print(type(df.col_names()))\n",
    "\n",
    "df.stats()\n",
    "\n"
   ]
  },
  {
   "cell_type": "code",
   "execution_count": 37,
   "metadata": {},
   "outputs": [
    {
     "name": "stdout",
     "output_type": "stream",
     "text": [
      "Index(['Unnamed: 0', 'id', 'member_id', 'loan_amount', 'funded_amount',\n",
      "       'funded_amount_inv', 'term_length_in_months', 'int_rate', 'instalment',\n",
      "       'grade', 'sub_grade', 'years_of_employment', 'home_ownership',\n",
      "       'annual_inc', 'verification_status', 'issue_date', 'loan_status',\n",
      "       'payment_plan', 'purpose', 'dti', 'delinq_2yrs', 'earliest_credit_line',\n",
      "       'inq_last_6mths', 'open_accounts', 'total_accounts', 'out_prncp',\n",
      "       'out_prncp_inv', 'total_payment', 'total_payment_inv',\n",
      "       'total_rec_prncp', 'total_rec_int', 'total_rec_late_fee', 'recoveries',\n",
      "       'collection_recovery_fee', 'last_payment_date', 'last_payment_amount',\n",
      "       'next_payment_date', 'last_credit_pull_date',\n",
      "       'collections_12_mths_ex_med', 'policy_code', 'application_type'],\n",
      "      dtype='object')\n"
     ]
    },
    {
     "ename": "TypeError",
     "evalue": "'NoneType' object is not iterable",
     "output_type": "error",
     "traceback": [
      "\u001b[1;31m---------------------------------------------------------------------------\u001b[0m",
      "\u001b[1;31mTypeError\u001b[0m                                 Traceback (most recent call last)",
      "Cell \u001b[1;32mIn[37], line 3\u001b[0m\n\u001b[0;32m      1\u001b[0m column_names \u001b[38;5;241m=\u001b[39m df\u001b[38;5;241m.\u001b[39mcol_names()\n\u001b[1;32m----> 3\u001b[0m \u001b[38;5;28;43;01mfor\u001b[39;49;00m\u001b[43m \u001b[49m\u001b[43mcolumn\u001b[49m\u001b[43m \u001b[49m\u001b[38;5;129;43;01min\u001b[39;49;00m\u001b[43m \u001b[49m\u001b[43mcolumn_names\u001b[49m\u001b[43m:\u001b[49m\n\u001b[0;32m      4\u001b[0m \u001b[43m    \u001b[49m\u001b[38;5;28;43mprint\u001b[39;49m\u001b[43m(\u001b[49m\u001b[38;5;124;43mf\u001b[39;49m\u001b[38;5;124;43m\"\u001b[39;49m\u001b[38;5;124;43mPlotting boxplot for \u001b[39;49m\u001b[38;5;132;43;01m{\u001b[39;49;00m\u001b[43mcolumn\u001b[49m\u001b[38;5;132;43;01m}\u001b[39;49;00m\u001b[38;5;124;43m:\u001b[39;49m\u001b[38;5;124;43m\"\u001b[39;49m\u001b[43m)\u001b[49m\n\u001b[0;32m      5\u001b[0m \u001b[43m    \u001b[49m\u001b[43mdf\u001b[49m\u001b[38;5;241;43m.\u001b[39;49m\u001b[43mboxplot_with_outliers\u001b[49m\u001b[43m(\u001b[49m\u001b[43mcolumn\u001b[49m\u001b[43m)\u001b[49m \n",
      "\u001b[1;31mTypeError\u001b[0m: 'NoneType' object is not iterable"
     ]
    }
   ],
   "source": [
    "column_names = df.col_names()\n",
    "\n",
    "for column in column_names:\n",
    "    print(f\"Plotting boxplot for {column}:\")\n",
    "    df.boxplot_with_outliers(column) \n",
    "    "
   ]
  }
 ],
 "metadata": {
  "kernelspec": {
   "display_name": "EDA_AiCore_env",
   "language": "python",
   "name": "python3"
  },
  "language_info": {
   "codemirror_mode": {
    "name": "ipython",
    "version": 3
   },
   "file_extension": ".py",
   "mimetype": "text/x-python",
   "name": "python",
   "nbconvert_exporter": "python",
   "pygments_lexer": "ipython3",
   "version": "3.12.1"
  }
 },
 "nbformat": 4,
 "nbformat_minor": 2
}
