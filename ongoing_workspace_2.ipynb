{
 "cells": [
  {
   "cell_type": "markdown",
   "metadata": {},
   "source": [
    "This page is taking over the functionality of ongoing_workspace.ipynb, so that I can import the data frame as it is currently saved, and run things more efficiently, now that Tasks 1-4 are complete. "
   ]
  },
  {
   "cell_type": "code",
   "execution_count": 1,
   "metadata": {},
   "outputs": [],
   "source": [
    "# Preamble - imports \n",
    "import numpy as np\n",
    "import pandas as pd  \n",
    "import data_cleaning_for_EDA as dc \n",
    "import matplotlib.pyplot as plt\n",
    "import seaborn as sns\n",
    "import imputing_methods as im "
   ]
  },
  {
   "cell_type": "code",
   "execution_count": 2,
   "metadata": {},
   "outputs": [],
   "source": [
    "# Preamble - Multiple Inheritance Class \n",
    "class MultipleInheritanceTestClass(im.Plotter, im.DataFrameTransform, dc.DataFrameInfo):\n",
    "    def export_to_csv(self, filename):\n",
    "        self.data_frame.to_csv(filename, index=False)\n",
    "        print(f\"DataFrame exported to {filename}\")"
   ]
  },
  {
   "cell_type": "code",
   "execution_count": null,
   "metadata": {},
   "outputs": [],
   "source": [
    "# Preamble - data read in\n",
    "df_df = pd.read_csv(\"df_end_of_Task_4.csv\")\n",
    "# ensure it's a data frame at this stage so everything inherits correctly in the next step. \n",
    "type(df_df)\n"
   ]
  },
  {
   "cell_type": "code",
   "execution_count": null,
   "metadata": {},
   "outputs": [],
   "source": [
    "df = MultipleInheritanceTestClass(df_df)"
   ]
  },
  {
   "cell_type": "markdown",
   "metadata": {},
   "source": [
    "## Task 5: Remove outliers  \n",
    "(Let the record show that as a statistician I do not condone willfully ignoring extereme-yet-possible data! I do so for the purposes of this task.)\n",
    "\n",
    "Step 1: Visualise with Plotter class to determine if coumns contain outliers. \n",
    "I think the best way to indicate that something is an outlier is to plot the actual values against the expected values (were the data Gaussian) in a QQNorm plot. However, since I already plotted loads of this data and identified many non-Gaussian-looking distributions (that's even after \"skew adjustment,\" another statistically questionable practise), I don't think a Normal QQ plot would tell me anything meaningful about outliers. \n",
    "\n",
    "I think the best I can offer right now is a box plot. It turs out there's a handy showfliers argument in the sns.boxplot() method-- see Plotter class, where I've added the boxplot_with_outliers() method. "
   ]
  },
  {
   "cell_type": "code",
   "execution_count": null,
   "metadata": {},
   "outputs": [],
   "source": [
    "# Troubleshooting checks \n",
    "print(type(df))\n",
    "\n",
    "print(type(df.col_names()))\n",
    "\n",
    "df.stats()\n",
    "\n"
   ]
  },
  {
   "cell_type": "code",
   "execution_count": null,
   "metadata": {},
   "outputs": [],
   "source": [
    "column_names = df.col_names()\n",
    "\n",
    "for column in column_names:\n",
    "        print(f\"Plotting boxplot for {column}:\")\n",
    "        df.boxplot_with_outliers(column)\n"
   ]
  },
  {
   "cell_type": "markdown",
   "metadata": {},
   "source": [
    "So many of the distributions of these columns struck me as Non-Gaussian to begin with (e.g. exponential or poisson could fit a lot of this data, since we are literally counting \"how many accounts have this quality?\" and the number of accounts accrues as time passes.), so the concept of using 1.5*IQR as the defining \"distance from the quartile\" for outliers (which is what sbn.boxplot() does) may not be appropriate. If I see a boxplot has 50 \"outliers,\" they're not really outliers, are they? However, these boxplots give me an initial visual so if I see anything that's truly separate from the pack, I can consider removing it. \n",
    "\n",
    "I also won't be removing anything from the id or member_id columns, since these aren't *really* quantitative data. \n",
    "\n",
    "So, items to consider removing, depending on how many are there: \n",
    "\n",
    "\n",
    "*collection_recovery_fee - has roughly four values higher than 5.5K, but honestly the way the plot tapers suggests exponential/poisson distribution so I wouldn't cut these off willy nilly. \n",
    "\n",
    "*recoveries - similar to the above, for values above 17500 \n",
    "\n",
    "*total_rec_late_fee - because the density is so much more powerful and drops off so suddenly after 150, I'd be more inclined to remove the four or so that are greater than 150 in this column. \n",
    "\n",
    "*total_rec_int - there's one that's probably a couple hundred higher than the rest, but the tapering of frequencies shown in this plot suggests another poisson. \n",
    "\n",
    "total_accounts - I could consider removing the 5 that are about 85-ish, or just the 2 that are above 90. There's still evidence of tapering which calls the legitimacy of dropping outliers into question. \n",
    "\n",
    "open_accounts - clearly discrete dta, with 5 above 45 and 2 above 50, and the thickness of the circles indicates tapering, i.e. a poisson-style distribution. As the values are all fairly close to each other, I wouldn't be inclined to remove any of those. \n",
    "\n",
    "*inq_last_6mths - the four above 22 are quite 'gapped' away from the rest, especially the three above 30. \n",
    "\n",
    "*deling_2yrs - looks like tapering to me. we'll see how spikey the values above 15 look in a histogram. \n",
    "\n",
    "Next I'll examine histograms for the columns with stars, above, to deterimine if in fact the \"outliers\" the box plot highlighted were isolated and far from the trend, or simply the natural tails of a tapering distribution. "
   ]
  },
  {
   "cell_type": "code",
   "execution_count": null,
   "metadata": {},
   "outputs": [],
   "source": [
    "spiky_columns = list({\"collection_recovery_fee\", \"recoveries\", \"total_rec_late_fee\", \"total_rec_int\", \"inq_last_6mths\",\"delinq_2yrs\"}) \n",
    "print(type(spiky_columns))"
   ]
  },
  {
   "cell_type": "markdown",
   "metadata": {},
   "source": [
    "After much nashing of teeth and growling in an attempt to turn each histogram's y-axis (which is strictly frequency density), a friend suggested I just look at a table to help me judge how far out and unexpected the one-off's are. Let's see if this works... the table() method is added to the Plotter class... "
   ]
  },
  {
   "cell_type": "code",
   "execution_count": null,
   "metadata": {},
   "outputs": [],
   "source": [
    "for column in spiky_columns: \n",
    "    print(f\"Table for {column}:\")\n",
    "    df.table(column)"
   ]
  },
  {
   "cell_type": "markdown",
   "metadata": {},
   "source": [
    "Going to re-examine for a notable gap in some of the tables that were too long to examine from the above. "
   ]
  },
  {
   "cell_type": "code",
   "execution_count": null,
   "metadata": {},
   "outputs": [],
   "source": [
    "for column in spiky_columns:\n",
    "        print(f\"Plotting boxplot for {column}:\")\n",
    "        df.boxplot_with_outliers(column)"
   ]
  },
  {
   "cell_type": "markdown",
   "metadata": {},
   "source": [
    "Right, plan of action for outliers has been formed... "
   ]
  },
  {
   "cell_type": "markdown",
   "metadata": {},
   "source": [
    "Of those reviewed above, here are my comments on what outliers to remove: \n",
    "\n",
    "- collection_recovery_fee - looks like they're all counts of 1 (for a total of just a handful) so just cut off anything bigger than 5000\n",
    "- recoveries - looks like they're all counts of 1 so cut off anything bigger than 18000\n",
    "- total_rec_late_fee - cut off anything bigger than 200 \n",
    "- total_rec_int -  looks like they're all 1's but quite close together for a long time, so cut off the top four, i.e. anything bigger than 21500  \n",
    "- inq_last_6mths - I can remove the four above 20. \n",
    "- deling_2yrs - None of those seem far enough away from a poisson-type distribution to justify dropping off. \n",
    "\n",
    "I'll also want to know how many data points I lose as a result of all these cut-offs. I'll be removing roughly 4 from each of the columns above, so if my loss of data points amounts to less than 20, I'll know some of those values were related by virtue of being part of the same data point (which suggests they could have been leverage points, but oh well.). "
   ]
  },
  {
   "cell_type": "code",
   "execution_count": null,
   "metadata": {},
   "outputs": [],
   "source": [
    "df.print_shape()\n",
    "df.remove_outlier_rows('collection_recovery_fee', 5000)\n",
    "df.print_shape() # lost 7"
   ]
  },
  {
   "cell_type": "code",
   "execution_count": null,
   "metadata": {},
   "outputs": [],
   "source": [
    "df.remove_outlier_rows('recoveries', 18000)\n",
    "df.print_shape() # lost 4"
   ]
  },
  {
   "cell_type": "code",
   "execution_count": null,
   "metadata": {},
   "outputs": [],
   "source": [
    "df.print_shape()\n",
    "df.remove_outlier_rows('total_rec_late_fee', 200)\n",
    "df.print_shape() # lost 2"
   ]
  },
  {
   "cell_type": "code",
   "execution_count": null,
   "metadata": {},
   "outputs": [],
   "source": [
    "df.remove_outlier_rows('total_rec_int', 21500)\n",
    "df.print_shape() # lost 4"
   ]
  },
  {
   "cell_type": "code",
   "execution_count": null,
   "metadata": {},
   "outputs": [],
   "source": [
    "df.remove_outlier_rows('inq_last_6mths', 20)\n",
    "df.print_shape() # lost 4"
   ]
  },
  {
   "cell_type": "markdown",
   "metadata": {},
   "source": [
    "It's promising to see from the losses above that there wasn't any overlap, so we moved simple outliers rather than leverage points. \n",
    "I'd now like to save this data frame for the next task. "
   ]
  },
  {
   "cell_type": "code",
   "execution_count": null,
   "metadata": {},
   "outputs": [],
   "source": [
    "df.export_to_csv(\"df_end_of_Task_5.csv\")"
   ]
  },
  {
   "cell_type": "markdown",
   "metadata": {},
   "source": [
    "## Task 6: Dropping overly correlated columns "
   ]
  },
  {
   "cell_type": "code",
   "execution_count": 3,
   "metadata": {},
   "outputs": [
    {
     "data": {
      "text/plain": [
       "pandas.core.frame.DataFrame"
      ]
     },
     "execution_count": 3,
     "metadata": {},
     "output_type": "execute_result"
    }
   ],
   "source": [
    "df_2 = pd.read_csv(\"df_end_of_Task_5.csv\")\n",
    "# ensure it's a data frame at this stage so everything inherits correctly in the next step. \n",
    "type(df_2)"
   ]
  },
  {
   "cell_type": "code",
   "execution_count": 4,
   "metadata": {},
   "outputs": [],
   "source": [
    "df = MultipleInheritanceTestClass(df_2)"
   ]
  },
  {
   "cell_type": "markdown",
   "metadata": {},
   "source": [
    "First tasked with examining high-correlation pairs of columns. See the corr_matrix() method in DataFrameInfo(), from data_cleaning_for_EDA module. "
   ]
  },
  {
   "cell_type": "code",
   "execution_count": null,
   "metadata": {},
   "outputs": [],
   "source": [
    "# this method will produce a load of pngs to display scatterplots... repo, prepare for a file dump. XD \n",
    "df.corr_matrix() #default is 0.65 as a high correlation threshold; I'm happy with that for a start. "
   ]
  },
  {
   "cell_type": "markdown",
   "metadata": {},
   "source": [
    "Kindly examine the png files now in this repo if you'd like to see scatterplots of the high-correlation columns to remove. "
   ]
  },
  {
   "cell_type": "markdown",
   "metadata": {},
   "source": [
    "Naturally, if you remove all high correlation columns, then you lose meaningful information. That is, if A and B are both related to C, but A and B are highly correlated with each other, then if you remove both A and B, you lose information on the relationship to C. \n",
    "\n",
    "By looking for the most frequent and eggregious \"offenders\" of colinearity among those plots, I identified the following as possible columns to remove: \n",
    "- funded_amount \n",
    "- out_prncp \n",
    "- id or member_id (they're basically identical; I just want to check which one has a nicer distrubtion, and I'll keep that one.) \n",
    "- total_payment \n",
    "- total_rec_prncp \n",
    "\n",
    "My eyeballs doesn't feel like a rigorous enough decision making tool with so many high correlation pairs to examine (thoguh I'm fairly certain there are duplicates, i.e. A vs B and B vs A are shown on separate plots), so I will scour the internet for a more meaningful selection process.  "
   ]
  },
  {
   "cell_type": "markdown",
   "metadata": {},
   "source": [
    "ChatGPT then gave me the idea that I need some criterion in order to decide which of two highly correlated columns to drop. I wonder if I can use the same logic as I'm using for id/member_id- and somehow code the method I'm creating to drop the more-skewed (for instance) of two columns. "
   ]
  },
  {
   "cell_type": "markdown",
   "metadata": {},
   "source": [
    "I'll start by visualising id and member_id, since I know what I'm looking for there... "
   ]
  },
  {
   "cell_type": "code",
   "execution_count": 6,
   "metadata": {},
   "outputs": [
    {
     "data": {
      "image/png": "[encoded data removed]",
      "text/plain": [
       "<Figure size 800x600 with 1 Axes>"
      ]
     },
     "metadata": {},
     "output_type": "display_data"
    },
    {
     "data": {
      "image/png": "[encoded data removed]",
      "text/plain": [
       "<Figure size 800x600 with 1 Axes>"
      ]
     },
     "metadata": {},
     "output_type": "display_data"
    }
   ],
   "source": [
    "df.plot_column('id') \n",
    "df.plot_column('member_id')"
   ]
  },
  {
   "cell_type": "markdown",
   "metadata": {},
   "source": [
    "Damn. They look way too similar to the human eye. Try skew?"
   ]
  },
  {
   "cell_type": "code",
   "execution_count": 7,
   "metadata": {},
   "outputs": [
    {
     "data": {
      "image/png": "[encoded data removed]",
      "text/plain": [
       "<Figure size 800x600 with 1 Axes>"
      ]
     },
     "metadata": {},
     "output_type": "display_data"
    },
    {
     "data": {
      "image/png": "[encoded data removed]",
      "text/plain": [
       "<Figure size 800x600 with 1 Axes>"
      ]
     },
     "metadata": {},
     "output_type": "display_data"
    }
   ],
   "source": [
    "df.boxplot_with_outliers('id')\n",
    "df.boxplot_with_outliers('member_id')\n"
   ]
  },
  {
   "cell_type": "markdown",
   "metadata": {},
   "source": [
    "Even though member_id has a median marginally closer to the middle of the dataset, id simply seems to have a slightly more well-balanced inter-quartile range. Furthermore, looking at high_corr_scatterplot_id_vs_member_id, you can see that member_id measures 'jutt out' while id seems to trace a straight line more smoothly. Thus, I'll keep id and drop member_id. "
   ]
  },
  {
   "cell_type": "code",
   "execution_count": 5,
   "metadata": {},
   "outputs": [
    {
     "data": {
      "text/html": [
       "<div>\n",
       "<style scoped>\n",
       "    .dataframe tbody tr th:only-of-type {\n",
       "        vertical-align: middle;\n",
       "    }\n",
       "\n",
       "    .dataframe tbody tr th {\n",
       "        vertical-align: top;\n",
       "    }\n",
       "\n",
       "    .dataframe thead th {\n",
       "        text-align: right;\n",
       "    }\n",
       "</style>\n",
       "<table border=\"1\" class=\"dataframe\">\n",
       "  <thead>\n",
       "    <tr style=\"text-align: right;\">\n",
       "      <th></th>\n",
       "      <th>Unnamed: 0</th>\n",
       "      <th>id</th>\n",
       "      <th>loan_amount</th>\n",
       "      <th>funded_amount</th>\n",
       "      <th>funded_amount_inv</th>\n",
       "      <th>term_length_in_months</th>\n",
       "      <th>int_rate</th>\n",
       "      <th>instalment</th>\n",
       "      <th>grade</th>\n",
       "      <th>sub_grade</th>\n",
       "      <th>...</th>\n",
       "      <th>total_rec_late_fee</th>\n",
       "      <th>recoveries</th>\n",
       "      <th>collection_recovery_fee</th>\n",
       "      <th>last_payment_date</th>\n",
       "      <th>last_payment_amount</th>\n",
       "      <th>next_payment_date</th>\n",
       "      <th>last_credit_pull_date</th>\n",
       "      <th>collections_12_mths_ex_med</th>\n",
       "      <th>policy_code</th>\n",
       "      <th>application_type</th>\n",
       "    </tr>\n",
       "  </thead>\n",
       "  <tbody>\n",
       "    <tr>\n",
       "      <th>0</th>\n",
       "      <td>0</td>\n",
       "      <td>38676116</td>\n",
       "      <td>8000</td>\n",
       "      <td>8000.0</td>\n",
       "      <td>8000.0</td>\n",
       "      <td>36.0</td>\n",
       "      <td>7.49</td>\n",
       "      <td>248.82</td>\n",
       "      <td>A</td>\n",
       "      <td>A4</td>\n",
       "      <td>...</td>\n",
       "      <td>0.000000</td>\n",
       "      <td>0.00</td>\n",
       "      <td>0.00</td>\n",
       "      <td>2022-01-01 00:00:00</td>\n",
       "      <td>248.82</td>\n",
       "      <td>2022-02-01 00:00:00</td>\n",
       "      <td>2022-01-01 00:00:00</td>\n",
       "      <td>0.0</td>\n",
       "      <td>1</td>\n",
       "      <td>INDIVIDUAL</td>\n",
       "    </tr>\n",
       "    <tr>\n",
       "      <th>1</th>\n",
       "      <td>1</td>\n",
       "      <td>38656203</td>\n",
       "      <td>13200</td>\n",
       "      <td>13200.0</td>\n",
       "      <td>13200.0</td>\n",
       "      <td>36.0</td>\n",
       "      <td>6.99</td>\n",
       "      <td>407.52</td>\n",
       "      <td>A</td>\n",
       "      <td>A3</td>\n",
       "      <td>...</td>\n",
       "      <td>0.000000</td>\n",
       "      <td>0.00</td>\n",
       "      <td>0.00</td>\n",
       "      <td>2022-01-01 00:00:00</td>\n",
       "      <td>407.52</td>\n",
       "      <td>2022-02-01 00:00:00</td>\n",
       "      <td>2022-01-01 00:00:00</td>\n",
       "      <td>0.0</td>\n",
       "      <td>1</td>\n",
       "      <td>INDIVIDUAL</td>\n",
       "    </tr>\n",
       "    <tr>\n",
       "      <th>2</th>\n",
       "      <td>2</td>\n",
       "      <td>38656154</td>\n",
       "      <td>16000</td>\n",
       "      <td>16000.0</td>\n",
       "      <td>16000.0</td>\n",
       "      <td>36.0</td>\n",
       "      <td>7.49</td>\n",
       "      <td>497.63</td>\n",
       "      <td>A</td>\n",
       "      <td>A4</td>\n",
       "      <td>...</td>\n",
       "      <td>0.000000</td>\n",
       "      <td>0.00</td>\n",
       "      <td>0.00</td>\n",
       "      <td>2021-10-01 00:00:00</td>\n",
       "      <td>12850.16</td>\n",
       "      <td>NaT</td>\n",
       "      <td>2021-10-01 00:00:00</td>\n",
       "      <td>0.0</td>\n",
       "      <td>1</td>\n",
       "      <td>INDIVIDUAL</td>\n",
       "    </tr>\n",
       "    <tr>\n",
       "      <th>3</th>\n",
       "      <td>3</td>\n",
       "      <td>38656128</td>\n",
       "      <td>15000</td>\n",
       "      <td>15000.0</td>\n",
       "      <td>15000.0</td>\n",
       "      <td>36.0</td>\n",
       "      <td>14.31</td>\n",
       "      <td>514.93</td>\n",
       "      <td>C</td>\n",
       "      <td>C4</td>\n",
       "      <td>...</td>\n",
       "      <td>0.000000</td>\n",
       "      <td>0.00</td>\n",
       "      <td>0.00</td>\n",
       "      <td>2021-06-01 00:00:00</td>\n",
       "      <td>13899.67</td>\n",
       "      <td>NaT</td>\n",
       "      <td>2021-06-01 00:00:00</td>\n",
       "      <td>0.0</td>\n",
       "      <td>1</td>\n",
       "      <td>INDIVIDUAL</td>\n",
       "    </tr>\n",
       "    <tr>\n",
       "      <th>4</th>\n",
       "      <td>4</td>\n",
       "      <td>38656121</td>\n",
       "      <td>15000</td>\n",
       "      <td>15000.0</td>\n",
       "      <td>15000.0</td>\n",
       "      <td>36.0</td>\n",
       "      <td>6.03</td>\n",
       "      <td>456.54</td>\n",
       "      <td>A</td>\n",
       "      <td>A1</td>\n",
       "      <td>...</td>\n",
       "      <td>0.000000</td>\n",
       "      <td>0.00</td>\n",
       "      <td>0.00</td>\n",
       "      <td>2022-01-01 00:00:00</td>\n",
       "      <td>456.54</td>\n",
       "      <td>2022-02-01 00:00:00</td>\n",
       "      <td>2022-01-01 00:00:00</td>\n",
       "      <td>0.0</td>\n",
       "      <td>1</td>\n",
       "      <td>INDIVIDUAL</td>\n",
       "    </tr>\n",
       "    <tr>\n",
       "      <th>...</th>\n",
       "      <td>...</td>\n",
       "      <td>...</td>\n",
       "      <td>...</td>\n",
       "      <td>...</td>\n",
       "      <td>...</td>\n",
       "      <td>...</td>\n",
       "      <td>...</td>\n",
       "      <td>...</td>\n",
       "      <td>...</td>\n",
       "      <td>...</td>\n",
       "      <td>...</td>\n",
       "      <td>...</td>\n",
       "      <td>...</td>\n",
       "      <td>...</td>\n",
       "      <td>...</td>\n",
       "      <td>...</td>\n",
       "      <td>...</td>\n",
       "      <td>...</td>\n",
       "      <td>...</td>\n",
       "      <td>...</td>\n",
       "      <td>...</td>\n",
       "    </tr>\n",
       "    <tr>\n",
       "      <th>54205</th>\n",
       "      <td>54226</td>\n",
       "      <td>76597</td>\n",
       "      <td>5000</td>\n",
       "      <td>5000.0</td>\n",
       "      <td>1775.0</td>\n",
       "      <td>36.0</td>\n",
       "      <td>9.01</td>\n",
       "      <td>159.03</td>\n",
       "      <td>B</td>\n",
       "      <td>B2</td>\n",
       "      <td>...</td>\n",
       "      <td>0.000000</td>\n",
       "      <td>0.00</td>\n",
       "      <td>0.00</td>\n",
       "      <td>2016-07-01 00:00:00</td>\n",
       "      <td>160.61</td>\n",
       "      <td>NaT</td>\n",
       "      <td>2016-07-01 00:00:00</td>\n",
       "      <td>0.0</td>\n",
       "      <td>1</td>\n",
       "      <td>INDIVIDUAL</td>\n",
       "    </tr>\n",
       "    <tr>\n",
       "      <th>54206</th>\n",
       "      <td>54227</td>\n",
       "      <td>142608</td>\n",
       "      <td>5000</td>\n",
       "      <td>5000.0</td>\n",
       "      <td>2350.0</td>\n",
       "      <td>36.0</td>\n",
       "      <td>10.59</td>\n",
       "      <td>162.73</td>\n",
       "      <td>C</td>\n",
       "      <td>C2</td>\n",
       "      <td>...</td>\n",
       "      <td>104.942381</td>\n",
       "      <td>0.00</td>\n",
       "      <td>0.00</td>\n",
       "      <td>2016-10-01 00:00:00</td>\n",
       "      <td>490.01</td>\n",
       "      <td>NaT</td>\n",
       "      <td>2016-09-01 00:00:00</td>\n",
       "      <td>0.0</td>\n",
       "      <td>1</td>\n",
       "      <td>INDIVIDUAL</td>\n",
       "    </tr>\n",
       "    <tr>\n",
       "      <th>54207</th>\n",
       "      <td>54228</td>\n",
       "      <td>117045</td>\n",
       "      <td>3500</td>\n",
       "      <td>3500.0</td>\n",
       "      <td>2225.0</td>\n",
       "      <td>36.0</td>\n",
       "      <td>7.43</td>\n",
       "      <td>108.77</td>\n",
       "      <td>A</td>\n",
       "      <td>A2</td>\n",
       "      <td>...</td>\n",
       "      <td>0.000000</td>\n",
       "      <td>0.00</td>\n",
       "      <td>0.00</td>\n",
       "      <td>2016-09-01 00:00:00</td>\n",
       "      <td>110.58</td>\n",
       "      <td>2016-09-01 00:00:00</td>\n",
       "      <td>2013-05-01 00:00:00</td>\n",
       "      <td>0.0</td>\n",
       "      <td>1</td>\n",
       "      <td>INDIVIDUAL</td>\n",
       "    </tr>\n",
       "    <tr>\n",
       "      <th>54208</th>\n",
       "      <td>54229</td>\n",
       "      <td>88854</td>\n",
       "      <td>5000</td>\n",
       "      <td>5000.0</td>\n",
       "      <td>225.0</td>\n",
       "      <td>36.0</td>\n",
       "      <td>7.43</td>\n",
       "      <td>155.38</td>\n",
       "      <td>A</td>\n",
       "      <td>A2</td>\n",
       "      <td>...</td>\n",
       "      <td>0.000000</td>\n",
       "      <td>0.00</td>\n",
       "      <td>0.00</td>\n",
       "      <td>2014-03-01 00:00:00</td>\n",
       "      <td>0.00</td>\n",
       "      <td>NaT</td>\n",
       "      <td>2013-05-01 00:00:00</td>\n",
       "      <td>0.0</td>\n",
       "      <td>1</td>\n",
       "      <td>INDIVIDUAL</td>\n",
       "    </tr>\n",
       "    <tr>\n",
       "      <th>54209</th>\n",
       "      <td>54230</td>\n",
       "      <td>72323</td>\n",
       "      <td>5000</td>\n",
       "      <td>5000.0</td>\n",
       "      <td>350.0</td>\n",
       "      <td>36.0</td>\n",
       "      <td>11.54</td>\n",
       "      <td>164.98</td>\n",
       "      <td>C</td>\n",
       "      <td>C5</td>\n",
       "      <td>...</td>\n",
       "      <td>0.000000</td>\n",
       "      <td>182.27</td>\n",
       "      <td>1.84</td>\n",
       "      <td>2014-03-01 00:00:00</td>\n",
       "      <td>164.97</td>\n",
       "      <td>2014-12-01 00:00:00</td>\n",
       "      <td>2015-01-01 00:00:00</td>\n",
       "      <td>0.0</td>\n",
       "      <td>1</td>\n",
       "      <td>INDIVIDUAL</td>\n",
       "    </tr>\n",
       "  </tbody>\n",
       "</table>\n",
       "<p>54210 rows × 40 columns</p>\n",
       "</div>"
      ],
      "text/plain": [
       "       Unnamed: 0        id  loan_amount  funded_amount  funded_amount_inv  \\\n",
       "0               0  38676116         8000         8000.0             8000.0   \n",
       "1               1  38656203        13200        13200.0            13200.0   \n",
       "2               2  38656154        16000        16000.0            16000.0   \n",
       "3               3  38656128        15000        15000.0            15000.0   \n",
       "4               4  38656121        15000        15000.0            15000.0   \n",
       "...           ...       ...          ...            ...                ...   \n",
       "54205       54226     76597         5000         5000.0             1775.0   \n",
       "54206       54227    142608         5000         5000.0             2350.0   \n",
       "54207       54228    117045         3500         3500.0             2225.0   \n",
       "54208       54229     88854         5000         5000.0              225.0   \n",
       "54209       54230     72323         5000         5000.0              350.0   \n",
       "\n",
       "       term_length_in_months  int_rate  instalment grade sub_grade  ...  \\\n",
       "0                       36.0      7.49      248.82     A        A4  ...   \n",
       "1                       36.0      6.99      407.52     A        A3  ...   \n",
       "2                       36.0      7.49      497.63     A        A4  ...   \n",
       "3                       36.0     14.31      514.93     C        C4  ...   \n",
       "4                       36.0      6.03      456.54     A        A1  ...   \n",
       "...                      ...       ...         ...   ...       ...  ...   \n",
       "54205                   36.0      9.01      159.03     B        B2  ...   \n",
       "54206                   36.0     10.59      162.73     C        C2  ...   \n",
       "54207                   36.0      7.43      108.77     A        A2  ...   \n",
       "54208                   36.0      7.43      155.38     A        A2  ...   \n",
       "54209                   36.0     11.54      164.98     C        C5  ...   \n",
       "\n",
       "       total_rec_late_fee recoveries  collection_recovery_fee  \\\n",
       "0                0.000000       0.00                     0.00   \n",
       "1                0.000000       0.00                     0.00   \n",
       "2                0.000000       0.00                     0.00   \n",
       "3                0.000000       0.00                     0.00   \n",
       "4                0.000000       0.00                     0.00   \n",
       "...                   ...        ...                      ...   \n",
       "54205            0.000000       0.00                     0.00   \n",
       "54206          104.942381       0.00                     0.00   \n",
       "54207            0.000000       0.00                     0.00   \n",
       "54208            0.000000       0.00                     0.00   \n",
       "54209            0.000000     182.27                     1.84   \n",
       "\n",
       "         last_payment_date last_payment_amount    next_payment_date  \\\n",
       "0      2022-01-01 00:00:00              248.82  2022-02-01 00:00:00   \n",
       "1      2022-01-01 00:00:00              407.52  2022-02-01 00:00:00   \n",
       "2      2021-10-01 00:00:00            12850.16                  NaT   \n",
       "3      2021-06-01 00:00:00            13899.67                  NaT   \n",
       "4      2022-01-01 00:00:00              456.54  2022-02-01 00:00:00   \n",
       "...                    ...                 ...                  ...   \n",
       "54205  2016-07-01 00:00:00              160.61                  NaT   \n",
       "54206  2016-10-01 00:00:00              490.01                  NaT   \n",
       "54207  2016-09-01 00:00:00              110.58  2016-09-01 00:00:00   \n",
       "54208  2014-03-01 00:00:00                0.00                  NaT   \n",
       "54209  2014-03-01 00:00:00              164.97  2014-12-01 00:00:00   \n",
       "\n",
       "      last_credit_pull_date collections_12_mths_ex_med  policy_code  \\\n",
       "0       2022-01-01 00:00:00                        0.0            1   \n",
       "1       2022-01-01 00:00:00                        0.0            1   \n",
       "2       2021-10-01 00:00:00                        0.0            1   \n",
       "3       2021-06-01 00:00:00                        0.0            1   \n",
       "4       2022-01-01 00:00:00                        0.0            1   \n",
       "...                     ...                        ...          ...   \n",
       "54205   2016-07-01 00:00:00                        0.0            1   \n",
       "54206   2016-09-01 00:00:00                        0.0            1   \n",
       "54207   2013-05-01 00:00:00                        0.0            1   \n",
       "54208   2013-05-01 00:00:00                        0.0            1   \n",
       "54209   2015-01-01 00:00:00                        0.0            1   \n",
       "\n",
       "       application_type  \n",
       "0            INDIVIDUAL  \n",
       "1            INDIVIDUAL  \n",
       "2            INDIVIDUAL  \n",
       "3            INDIVIDUAL  \n",
       "4            INDIVIDUAL  \n",
       "...                 ...  \n",
       "54205        INDIVIDUAL  \n",
       "54206        INDIVIDUAL  \n",
       "54207        INDIVIDUAL  \n",
       "54208        INDIVIDUAL  \n",
       "54209        INDIVIDUAL  \n",
       "\n",
       "[54210 rows x 40 columns]"
      ]
     },
     "execution_count": 5,
     "metadata": {},
     "output_type": "execute_result"
    }
   ],
   "source": [
    "df.drop_any_column('member_id')"
   ]
  }
 ],
 "metadata": {
  "kernelspec": {
   "display_name": "EDA_AiCore_env",
   "language": "python",
   "name": "python3"
  },
  "language_info": {
   "codemirror_mode": {
    "name": "ipython",
    "version": 3
   },
   "file_extension": ".py",
   "mimetype": "text/x-python",
   "name": "python",
   "nbconvert_exporter": "python",
   "pygments_lexer": "ipython3",
   "version": "3.12.1"
  }
 },
 "nbformat": 4,
 "nbformat_minor": 2
}
