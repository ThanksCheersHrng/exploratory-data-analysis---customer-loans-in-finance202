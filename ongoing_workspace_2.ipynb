{
 "cells": [
  {
   "cell_type": "markdown",
   "metadata": {},
   "source": [
    "This page is taking over the functionality of ongoing_workspace.ipynb, so that I can import the data frame as it is currently saved, and run things more efficiently, now that Tasks 1-4 are complete. "
   ]
  },
  {
   "cell_type": "code",
   "execution_count": 1,
   "metadata": {},
   "outputs": [],
   "source": [
    "# Preamble - imports \n",
    "import numpy as np\n",
    "import pandas as pd  \n",
    "import data_cleaning_for_EDA as dc \n",
    "import matplotlib.pyplot as plt\n",
    "import seaborn as sns\n",
    "import imputing_methods as im "
   ]
  },
  {
   "cell_type": "code",
   "execution_count": 2,
   "metadata": {},
   "outputs": [],
   "source": [
    "# Preamble - Multiple Inheritance Class \n",
    "class MultipleInheritanceTestClass(im.Plotter, im.DataFrameTransform, dc.DataFrameInfo):\n",
    "    def export_to_csv(self, filename):\n",
    "        self.data_frame.to_csv(filename, index=False)\n",
    "        print(f\"DataFrame exported to {filename}\")"
   ]
  },
  {
   "cell_type": "code",
   "execution_count": null,
   "metadata": {},
   "outputs": [],
   "source": [
    "# Preamble - data read in\n",
    "df_df = pd.read_csv(\"df_end_of_Task_4.csv\")\n",
    "# ensure it's a data frame at this stage so everything inherits correctly in the next step. \n",
    "type(df_df)\n"
   ]
  },
  {
   "cell_type": "code",
   "execution_count": null,
   "metadata": {},
   "outputs": [],
   "source": [
    "df = MultipleInheritanceTestClass(df_df)"
   ]
  },
  {
   "cell_type": "markdown",
   "metadata": {},
   "source": [
    "## Task 5: Remove outliers  \n",
    "(Let the record show that as a statistician I do not condone willfully ignoring extereme-yet-possible data! I do so for the purposes of this task.)\n",
    "\n",
    "Step 1: Visualise with Plotter class to determine if coumns contain outliers. \n",
    "I think the best way to indicate that something is an outlier is to plot the actual values against the expected values (were the data Gaussian) in a QQNorm plot. However, since I already plotted loads of this data and identified many non-Gaussian-looking distributions (that's even after \"skew adjustment,\" another statistically questionable practise), I don't think a Normal QQ plot would tell me anything meaningful about outliers. \n",
    "\n",
    "I think the best I can offer right now is a box plot. It turs out there's a handy showfliers argument in the sns.boxplot() method-- see Plotter class, where I've added the boxplot_with_outliers() method. "
   ]
  },
  {
   "cell_type": "code",
   "execution_count": null,
   "metadata": {},
   "outputs": [],
   "source": [
    "# Troubleshooting checks \n",
    "print(type(df))\n",
    "\n",
    "print(type(df.col_names()))\n",
    "\n",
    "df.stats()\n",
    "\n"
   ]
  },
  {
   "cell_type": "code",
   "execution_count": null,
   "metadata": {},
   "outputs": [],
   "source": [
    "column_names = df.col_names()\n",
    "\n",
    "for column in column_names:\n",
    "        print(f\"Plotting boxplot for {column}:\")\n",
    "        df.boxplot_with_outliers(column)\n"
   ]
  },
  {
   "cell_type": "markdown",
   "metadata": {},
   "source": [
    "So many of the distributions of these columns struck me as Non-Gaussian to begin with (e.g. exponential or poisson could fit a lot of this data, since we are literally counting \"how many accounts have this quality?\" and the number of accounts accrues as time passes.), so the concept of using 1.5*IQR as the defining \"distance from the quartile\" for outliers (which is what sbn.boxplot() does) may not be appropriate. If I see a boxplot has 50 \"outliers,\" they're not really outliers, are they? However, these boxplots give me an initial visual so if I see anything that's truly separate from the pack, I can consider removing it. \n",
    "\n",
    "I also won't be removing anything from the id or member_id columns, since these aren't *really* quantitative data. \n",
    "\n",
    "So, items to consider removing, depending on how many are there: \n",
    "\n",
    "\n",
    "*collection_recovery_fee - has roughly four values higher than 5.5K, but honestly the way the plot tapers suggests exponential/poisson distribution so I wouldn't cut these off willy nilly. \n",
    "\n",
    "*recoveries - similar to the above, for values above 17500 \n",
    "\n",
    "*total_rec_late_fee - because the density is so much more powerful and drops off so suddenly after 150, I'd be more inclined to remove the four or so that are greater than 150 in this column. \n",
    "\n",
    "*total_rec_int - there's one that's probably a couple hundred higher than the rest, but the tapering of frequencies shown in this plot suggests another poisson. \n",
    "\n",
    "total_accounts - I could consider removing the 5 that are about 85-ish, or just the 2 that are above 90. There's still evidence of tapering which calls the legitimacy of dropping outliers into question. \n",
    "\n",
    "open_accounts - clearly discrete dta, with 5 above 45 and 2 above 50, and the thickness of the circles indicates tapering, i.e. a poisson-style distribution. As the values are all fairly close to each other, I wouldn't be inclined to remove any of those. \n",
    "\n",
    "*inq_last_6mths - the four above 22 are quite 'gapped' away from the rest, especially the three above 30. \n",
    "\n",
    "*deling_2yrs - looks like tapering to me. we'll see how spikey the values above 15 look in a histogram. \n",
    "\n",
    "Next I'll examine histograms for the columns with stars, above, to deterimine if in fact the \"outliers\" the box plot highlighted were isolated and far from the trend, or simply the natural tails of a tapering distribution. "
   ]
  },
  {
   "cell_type": "code",
   "execution_count": null,
   "metadata": {},
   "outputs": [],
   "source": [
    "spiky_columns = list({\"collection_recovery_fee\", \"recoveries\", \"total_rec_late_fee\", \"total_rec_int\", \"inq_last_6mths\",\"delinq_2yrs\"}) \n",
    "print(type(spiky_columns))"
   ]
  },
  {
   "cell_type": "markdown",
   "metadata": {},
   "source": [
    "After much nashing of teeth and growling in an attempt to turn each histogram's y-axis (which is strictly frequency density), a friend suggested I just look at a table to help me judge how far out and unexpected the one-off's are. Let's see if this works... the table() method is added to the Plotter class... "
   ]
  },
  {
   "cell_type": "code",
   "execution_count": null,
   "metadata": {},
   "outputs": [],
   "source": [
    "for column in spiky_columns: \n",
    "    print(f\"Table for {column}:\")\n",
    "    df.table(column)"
   ]
  },
  {
   "cell_type": "markdown",
   "metadata": {},
   "source": [
    "Going to re-examine for a notable gap in some of the tables that were too long to examine from the above. "
   ]
  },
  {
   "cell_type": "code",
   "execution_count": null,
   "metadata": {},
   "outputs": [],
   "source": [
    "for column in spiky_columns:\n",
    "        print(f\"Plotting boxplot for {column}:\")\n",
    "        df.boxplot_with_outliers(column)"
   ]
  },
  {
   "cell_type": "markdown",
   "metadata": {},
   "source": [
    "Right, plan of action for outliers has been formed... "
   ]
  },
  {
   "cell_type": "markdown",
   "metadata": {},
   "source": [
    "Of those reviewed above, here are my comments on what outliers to remove: \n",
    "\n",
    "- collection_recovery_fee - looks like they're all counts of 1 (for a total of just a handful) so just cut off anything bigger than 5000\n",
    "- recoveries - looks like they're all counts of 1 so cut off anything bigger than 18000\n",
    "- total_rec_late_fee - cut off anything bigger than 200 \n",
    "- total_rec_int -  looks like they're all 1's but quite close together for a long time, so cut off the top four, i.e. anything bigger than 21500  \n",
    "- inq_last_6mths - I can remove the four above 20. \n",
    "- deling_2yrs - None of those seem far enough away from a poisson-type distribution to justify dropping off. \n",
    "\n",
    "I'll also want to know how many data points I lose as a result of all these cut-offs. I'll be removing roughly 4 from each of the columns above, so if my loss of data points amounts to less than 20, I'll know some of those values were related by virtue of being part of the same data point (which suggests they could have been leverage points, but oh well.). "
   ]
  },
  {
   "cell_type": "code",
   "execution_count": null,
   "metadata": {},
   "outputs": [],
   "source": [
    "df.print_shape()\n",
    "df.remove_outlier_rows('collection_recovery_fee', 5000)\n",
    "df.print_shape() # lost 7"
   ]
  },
  {
   "cell_type": "code",
   "execution_count": null,
   "metadata": {},
   "outputs": [],
   "source": [
    "df.remove_outlier_rows('recoveries', 18000)\n",
    "df.print_shape() # lost 4"
   ]
  },
  {
   "cell_type": "code",
   "execution_count": null,
   "metadata": {},
   "outputs": [],
   "source": [
    "df.print_shape()\n",
    "df.remove_outlier_rows('total_rec_late_fee', 200)\n",
    "df.print_shape() # lost 2"
   ]
  },
  {
   "cell_type": "code",
   "execution_count": null,
   "metadata": {},
   "outputs": [],
   "source": [
    "df.remove_outlier_rows('total_rec_int', 21500)\n",
    "df.print_shape() # lost 4"
   ]
  },
  {
   "cell_type": "code",
   "execution_count": null,
   "metadata": {},
   "outputs": [],
   "source": [
    "df.remove_outlier_rows('inq_last_6mths', 20)\n",
    "df.print_shape() # lost 4"
   ]
  },
  {
   "cell_type": "markdown",
   "metadata": {},
   "source": [
    "It's promising to see from the losses above that there wasn't any overlap, so we moved simple outliers rather than leverage points. \n",
    "I'd now like to save this data frame for the next task. "
   ]
  },
  {
   "cell_type": "code",
   "execution_count": null,
   "metadata": {},
   "outputs": [],
   "source": [
    "df.export_to_csv(\"df_end_of_Task_5.csv\")"
   ]
  },
  {
   "cell_type": "markdown",
   "metadata": {},
   "source": [
    "## Task 6: Dropping overly correlated columns "
   ]
  },
  {
   "cell_type": "code",
   "execution_count": 3,
   "metadata": {},
   "outputs": [
    {
     "data": {
      "text/plain": [
       "pandas.core.frame.DataFrame"
      ]
     },
     "execution_count": 3,
     "metadata": {},
     "output_type": "execute_result"
    }
   ],
   "source": [
    "df_2 = pd.read_csv(\"df_end_of_Task_5.csv\")\n",
    "# ensure it's a data frame at this stage so everything inherits correctly in the next step. \n",
    "type(df_2)"
   ]
  },
  {
   "cell_type": "code",
   "execution_count": 4,
   "metadata": {},
   "outputs": [],
   "source": [
    "df = MultipleInheritanceTestClass(df_2)"
   ]
  },
  {
   "cell_type": "markdown",
   "metadata": {},
   "source": [
    "First tasked with examining high-correlation pairs of columns. See the corr_matrix() method in DataFrameInfo(), from data_cleaning_for_EDA module. "
   ]
  },
  {
   "cell_type": "code",
   "execution_count": 5,
   "metadata": {},
   "outputs": [
    {
     "name": "stdout",
     "output_type": "stream",
     "text": [
      "                            Unnamed: 0        id  member_id  loan_amount  \\\n",
      "Unnamed: 0                    1.000000 -0.740928  -0.771418    -0.204667   \n",
      "id                           -0.740928  1.000000   0.994192     0.134010   \n",
      "member_id                    -0.771418  0.994192   1.000000     0.139746   \n",
      "loan_amount                  -0.204667  0.134010   0.139746     1.000000   \n",
      "funded_amount                -0.214617  0.140651   0.146731     0.964868   \n",
      "funded_amount_inv            -0.269271  0.168311   0.175817     0.975311   \n",
      "term_length_in_months        -0.049905  0.026732   0.027910     0.350909   \n",
      "int_rate                     -0.152098  0.056512   0.060999     0.203116   \n",
      "instalment                   -0.221409  0.138288   0.144552     0.947076   \n",
      "years_of_employment          -0.151030  0.079479   0.086432     0.147740   \n",
      "annual_inc                   -0.046460  0.042588   0.042314     0.368815   \n",
      "dti                          -0.248654  0.200995   0.203427     0.094046   \n",
      "delinq_2yrs                  -0.084616  0.063355   0.063656     0.014437   \n",
      "inq_last_6mths                0.137727 -0.094149  -0.098368    -0.036754   \n",
      "open_accounts                -0.181983  0.152470   0.152343     0.213510   \n",
      "total_accounts               -0.134127  0.102635   0.102003     0.251231   \n",
      "out_prncp                    -0.438493  0.477116   0.481012     0.468290   \n",
      "out_prncp_inv                -0.438520  0.477156   0.481051     0.468221   \n",
      "total_payment                 0.031892 -0.155370  -0.149781     0.803415   \n",
      "total_payment_inv            -0.019433 -0.130098  -0.123107     0.795997   \n",
      "total_rec_prncp               0.059837 -0.164667  -0.160158     0.690682   \n",
      "total_rec_int                -0.059037 -0.054530  -0.048561     0.722830   \n",
      "total_rec_late_fee            0.080184 -0.052763  -0.054840     0.029180   \n",
      "recoveries                    0.004714 -0.028469  -0.028252     0.119898   \n",
      "collection_recovery_fee       0.012990 -0.018328  -0.018952     0.073735   \n",
      "last_payment_amount          -0.058831 -0.019833  -0.016064     0.348090   \n",
      "collections_12_mths_ex_med   -0.057044  0.074260   0.072495     0.001362   \n",
      "policy_code                        NaN       NaN        NaN          NaN   \n",
      "\n",
      "                            funded_amount  funded_amount_inv  \\\n",
      "Unnamed: 0                      -0.214617          -0.269271   \n",
      "id                               0.140651           0.168311   \n",
      "member_id                        0.146731           0.175817   \n",
      "loan_amount                      0.964868           0.975311   \n",
      "funded_amount                    1.000000           0.953565   \n",
      "funded_amount_inv                0.953565           1.000000   \n",
      "term_length_in_months            0.336641           0.351489   \n",
      "int_rate                         0.200030           0.209948   \n",
      "instalment                       0.926822           0.935278   \n",
      "years_of_employment              0.145306           0.160385   \n",
      "annual_inc                       0.354912           0.355182   \n",
      "dti                              0.095488           0.110670   \n",
      "delinq_2yrs                      0.016508           0.017260   \n",
      "inq_last_6mths                  -0.036529          -0.061369   \n",
      "open_accounts                    0.208854           0.215202   \n",
      "total_accounts                   0.244555           0.249650   \n",
      "out_prncp                        0.467503           0.490833   \n",
      "out_prncp_inv                    0.467467           0.490822   \n",
      "total_payment                    0.779282           0.784306   \n",
      "total_payment_inv                0.773254           0.811335   \n",
      "total_rec_prncp                  0.668831           0.670838   \n",
      "total_rec_int                    0.704310           0.715537   \n",
      "total_rec_late_fee               0.027015           0.013086   \n",
      "recoveries                       0.115363           0.114147   \n",
      "collection_recovery_fee          0.071020           0.067766   \n",
      "last_payment_amount              0.336703           0.345790   \n",
      "collections_12_mths_ex_med       0.003390           0.004100   \n",
      "policy_code                           NaN                NaN   \n",
      "\n",
      "                            term_length_in_months  int_rate  instalment  \\\n",
      "Unnamed: 0                              -0.049905 -0.152098   -0.221409   \n",
      "id                                       0.026732  0.056512    0.138288   \n",
      "member_id                                0.027910  0.060999    0.144552   \n",
      "loan_amount                              0.350909  0.203116    0.947076   \n",
      "funded_amount                            0.336641  0.200030    0.926822   \n",
      "funded_amount_inv                        0.351489  0.209948    0.935278   \n",
      "term_length_in_months                    1.000000  0.394033    0.118577   \n",
      "int_rate                                 0.394033  1.000000    0.190891   \n",
      "instalment                               0.118577  0.190891    1.000000   \n",
      "years_of_employment                      0.083178  0.035816    0.131656   \n",
      "annual_inc                               0.050715  0.002836    0.370484   \n",
      "dti                                      0.084007  0.172175    0.092988   \n",
      "delinq_2yrs                              0.006599  0.107196    0.028226   \n",
      "inq_last_6mths                           0.001798  0.166749   -0.016297   \n",
      "open_accounts                            0.056274  0.034304    0.213650   \n",
      "total_accounts                           0.083501 -0.017535    0.233599   \n",
      "out_prncp                                0.333212  0.183034    0.390559   \n",
      "out_prncp_inv                            0.333132  0.183133    0.390540   \n",
      "total_payment                            0.216114  0.155813    0.798135   \n",
      "total_payment_inv                        0.226054  0.161987    0.789035   \n",
      "total_rec_prncp                          0.066248  0.003012    0.715601   \n",
      "total_rec_int                            0.504257  0.472721    0.640575   \n",
      "total_rec_late_fee                       0.004403  0.045506    0.036390   \n",
      "recoveries                               0.091692  0.118997    0.109672   \n",
      "collection_recovery_fee                  0.048787  0.069016    0.070283   \n",
      "last_payment_amount                      0.139506  0.100422    0.331708   \n",
      "collections_12_mths_ex_med               0.004059  0.032761    0.005035   \n",
      "policy_code                                   NaN       NaN         NaN   \n",
      "\n",
      "                            years_of_employment  ...  total_payment  \\\n",
      "Unnamed: 0                            -0.151030  ...       0.031892   \n",
      "id                                     0.079479  ...      -0.155370   \n",
      "member_id                              0.086432  ...      -0.149781   \n",
      "loan_amount                            0.147740  ...       0.803415   \n",
      "funded_amount                          0.145306  ...       0.779282   \n",
      "funded_amount_inv                      0.160385  ...       0.784306   \n",
      "term_length_in_months                  0.083178  ...       0.216114   \n",
      "int_rate                               0.035816  ...       0.155813   \n",
      "instalment                             0.131656  ...       0.798135   \n",
      "years_of_employment                    1.000000  ...       0.102434   \n",
      "annual_inc                             0.100648  ...       0.323604   \n",
      "dti                                    0.080217  ...       0.006327   \n",
      "delinq_2yrs                            0.035983  ...      -0.004573   \n",
      "inq_last_6mths                        -0.038026  ...      -0.006888   \n",
      "open_accounts                          0.075398  ...       0.139359   \n",
      "total_accounts                         0.152503  ...       0.193265   \n",
      "out_prncp                              0.113458  ...       0.055933   \n",
      "out_prncp_inv                          0.113456  ...       0.055845   \n",
      "total_payment                          0.102434  ...       1.000000   \n",
      "total_payment_inv                      0.114866  ...       0.981659   \n",
      "total_rec_prncp                        0.079984  ...       0.956875   \n",
      "total_rec_int                          0.115392  ...       0.676104   \n",
      "total_rec_late_fee                    -0.021181  ...       0.014105   \n",
      "recoveries                             0.009079  ...      -0.027845   \n",
      "collection_recovery_fee                0.004193  ...       0.001078   \n",
      "last_payment_amount                    0.056210  ...       0.570481   \n",
      "collections_12_mths_ex_med             0.011679  ...      -0.016175   \n",
      "policy_code                                 NaN  ...            NaN   \n",
      "\n",
      "                            total_payment_inv  total_rec_prncp  total_rec_int  \\\n",
      "Unnamed: 0                          -0.019433         0.059837      -0.059037   \n",
      "id                                  -0.130098        -0.164667      -0.054530   \n",
      "member_id                           -0.123107        -0.160158      -0.048561   \n",
      "loan_amount                          0.795997         0.690682       0.722830   \n",
      "funded_amount                        0.773254         0.668831       0.704310   \n",
      "funded_amount_inv                    0.811335         0.670838       0.715537   \n",
      "term_length_in_months                0.226054         0.066248       0.504257   \n",
      "int_rate                             0.161987         0.003012       0.472721   \n",
      "instalment                           0.789035         0.715601       0.640575   \n",
      "years_of_employment                  0.114866         0.079984       0.115392   \n",
      "annual_inc                           0.316783         0.304039       0.227176   \n",
      "dti                                  0.019468        -0.034349       0.108898   \n",
      "delinq_2yrs                         -0.003820        -0.022006       0.042377   \n",
      "inq_last_6mths                      -0.026631        -0.017628       0.016726   \n",
      "open_accounts                        0.141417         0.120534       0.126271   \n",
      "total_accounts                       0.195476         0.182375       0.132548   \n",
      "out_prncp                            0.073842        -0.108360       0.493291   \n",
      "out_prncp_inv                        0.073817        -0.108439       0.493214   \n",
      "total_payment                        0.981659         0.956875       0.676104   \n",
      "total_payment_inv                    1.000000         0.936849       0.670786   \n",
      "total_rec_prncp                      0.936849         1.000000       0.441403   \n",
      "total_rec_int                        0.670786         0.441403       1.000000   \n",
      "total_rec_late_fee                   0.000958        -0.012017       0.056104   \n",
      "recoveries                          -0.029008        -0.128360       0.036474   \n",
      "collection_recovery_fee             -0.002211        -0.075914       0.032022   \n",
      "last_payment_amount                  0.569899         0.665466       0.076331   \n",
      "collections_12_mths_ex_med          -0.014202        -0.018332      -0.002694   \n",
      "policy_code                               NaN              NaN            NaN   \n",
      "\n",
      "                            total_rec_late_fee  recoveries  \\\n",
      "Unnamed: 0                            0.080184    0.004714   \n",
      "id                                   -0.052763   -0.028469   \n",
      "member_id                            -0.054840   -0.028252   \n",
      "loan_amount                           0.029180    0.119898   \n",
      "funded_amount                         0.027015    0.115363   \n",
      "funded_amount_inv                     0.013086    0.114147   \n",
      "term_length_in_months                 0.004403    0.091692   \n",
      "int_rate                              0.045506    0.118997   \n",
      "instalment                            0.036390    0.109672   \n",
      "years_of_employment                  -0.021181    0.009079   \n",
      "annual_inc                            0.011734    0.021745   \n",
      "dti                                  -0.022904    0.020566   \n",
      "delinq_2yrs                           0.019954    0.009697   \n",
      "inq_last_6mths                        0.055264    0.038011   \n",
      "open_accounts                        -0.028097    0.008115   \n",
      "total_accounts                       -0.026991    0.017823   \n",
      "out_prncp                            -0.019958   -0.084642   \n",
      "out_prncp_inv                        -0.019963   -0.084630   \n",
      "total_payment                         0.014105   -0.027845   \n",
      "total_payment_inv                     0.000958   -0.029008   \n",
      "total_rec_prncp                      -0.012017   -0.128360   \n",
      "total_rec_int                         0.056104    0.036474   \n",
      "total_rec_late_fee                    1.000000    0.090952   \n",
      "recoveries                            0.090952    1.000000   \n",
      "collection_recovery_fee               0.100486    0.803566   \n",
      "last_payment_amount                  -0.051155   -0.077265   \n",
      "collections_12_mths_ex_med           -0.002679   -0.001948   \n",
      "policy_code                                NaN         NaN   \n",
      "\n",
      "                            collection_recovery_fee  last_payment_amount  \\\n",
      "Unnamed: 0                                 0.012990            -0.058831   \n",
      "id                                        -0.018328            -0.019833   \n",
      "member_id                                 -0.018952            -0.016064   \n",
      "loan_amount                                0.073735             0.348090   \n",
      "funded_amount                              0.071020             0.336703   \n",
      "funded_amount_inv                          0.067766             0.345790   \n",
      "term_length_in_months                      0.048787             0.139506   \n",
      "int_rate                                   0.069016             0.100422   \n",
      "instalment                                 0.070283             0.331708   \n",
      "years_of_employment                        0.004193             0.056210   \n",
      "annual_inc                                 0.019285             0.155481   \n",
      "dti                                        0.010290            -0.012156   \n",
      "delinq_2yrs                                0.010875            -0.002947   \n",
      "inq_last_6mths                             0.036128             0.021820   \n",
      "open_accounts                              0.006239             0.072709   \n",
      "total_accounts                             0.015316             0.131135   \n",
      "out_prncp                                 -0.054724            -0.255819   \n",
      "out_prncp_inv                             -0.054716            -0.255780   \n",
      "total_payment                              0.001078             0.570481   \n",
      "total_payment_inv                         -0.002211             0.569899   \n",
      "total_rec_prncp                           -0.075914             0.665466   \n",
      "total_rec_int                              0.032022             0.076331   \n",
      "total_rec_late_fee                         0.100486            -0.051155   \n",
      "recoveries                                 0.803566            -0.077265   \n",
      "collection_recovery_fee                    1.000000            -0.049903   \n",
      "last_payment_amount                       -0.049903             1.000000   \n",
      "collections_12_mths_ex_med                -0.001369            -0.001035   \n",
      "policy_code                                     NaN                  NaN   \n",
      "\n",
      "                            collections_12_mths_ex_med  policy_code  \n",
      "Unnamed: 0                                   -0.057044          NaN  \n",
      "id                                            0.074260          NaN  \n",
      "member_id                                     0.072495          NaN  \n",
      "loan_amount                                   0.001362          NaN  \n",
      "funded_amount                                 0.003390          NaN  \n",
      "funded_amount_inv                             0.004100          NaN  \n",
      "term_length_in_months                         0.004059          NaN  \n",
      "int_rate                                      0.032761          NaN  \n",
      "instalment                                    0.005035          NaN  \n",
      "years_of_employment                           0.011679          NaN  \n",
      "annual_inc                                    0.006149          NaN  \n",
      "dti                                           0.012190          NaN  \n",
      "delinq_2yrs                                   0.026084          NaN  \n",
      "inq_last_6mths                               -0.006576          NaN  \n",
      "open_accounts                                 0.018127          NaN  \n",
      "total_accounts                                0.016554          NaN  \n",
      "out_prncp                                     0.027817          NaN  \n",
      "out_prncp_inv                                 0.027818          NaN  \n",
      "total_payment                                -0.016175          NaN  \n",
      "total_payment_inv                            -0.014202          NaN  \n",
      "total_rec_prncp                              -0.018332          NaN  \n",
      "total_rec_int                                -0.002694          NaN  \n",
      "total_rec_late_fee                           -0.002679          NaN  \n",
      "recoveries                                   -0.001948          NaN  \n",
      "collection_recovery_fee                      -0.001369          NaN  \n",
      "last_payment_amount                          -0.001035          NaN  \n",
      "collections_12_mths_ex_med                    1.000000          NaN  \n",
      "policy_code                                        NaN          NaN  \n",
      "\n",
      "[28 rows x 28 columns]\n"
     ]
    },
    {
     "ename": "KeyError",
     "evalue": "\"None of [Index([                      ('Unnamed: 0', 'id'),\\n                      ('Unnamed: 0', 'member_id'),\\n                             ('id', 'Unnamed: 0'),\\n                              ('id', 'member_id'),\\n                      ('member_id', 'Unnamed: 0'),\\n                              ('member_id', 'id'),\\n                 ('loan_amount', 'funded_amount'),\\n             ('loan_amount', 'funded_amount_inv'),\\n                    ('loan_amount', 'instalment'),\\n                 ('loan_amount', 'total_payment'),\\n             ('loan_amount', 'total_payment_inv'),\\n               ('loan_amount', 'total_rec_prncp'),\\n                 ('loan_amount', 'total_rec_int'),\\n                 ('funded_amount', 'loan_amount'),\\n           ('funded_amount', 'funded_amount_inv'),\\n                  ('funded_amount', 'instalment'),\\n               ('funded_amount', 'total_payment'),\\n           ('funded_amount', 'total_payment_inv'),\\n             ('funded_amount', 'total_rec_prncp'),\\n               ('funded_amount', 'total_rec_int'),\\n             ('funded_amount_inv', 'loan_amount'),\\n           ('funded_amount_inv', 'funded_amount'),\\n              ('funded_amount_inv', 'instalment'),\\n           ('funded_amount_inv', 'total_payment'),\\n       ('funded_amount_inv', 'total_payment_inv'),\\n         ('funded_amount_inv', 'total_rec_prncp'),\\n           ('funded_amount_inv', 'total_rec_int'),\\n                    ('instalment', 'loan_amount'),\\n                  ('instalment', 'funded_amount'),\\n              ('instalment', 'funded_amount_inv'),\\n                  ('instalment', 'total_payment'),\\n              ('instalment', 'total_payment_inv'),\\n                ('instalment', 'total_rec_prncp'),\\n              ('open_accounts', 'total_accounts'),\\n              ('total_accounts', 'open_accounts'),\\n                   ('out_prncp', 'out_prncp_inv'),\\n                   ('out_prncp_inv', 'out_prncp'),\\n                 ('total_payment', 'loan_amount'),\\n               ('total_payment', 'funded_amount'),\\n           ('total_payment', 'funded_amount_inv'),\\n                  ('total_payment', 'instalment'),\\n           ('total_payment', 'total_payment_inv'),\\n             ('total_payment', 'total_rec_prncp'),\\n               ('total_payment', 'total_rec_int'),\\n             ('total_payment_inv', 'loan_amount'),\\n           ('total_payment_inv', 'funded_amount'),\\n       ('total_payment_inv', 'funded_amount_inv'),\\n              ('total_payment_inv', 'instalment'),\\n           ('total_payment_inv', 'total_payment'),\\n         ('total_payment_inv', 'total_rec_prncp'),\\n           ('total_payment_inv', 'total_rec_int'),\\n               ('total_rec_prncp', 'loan_amount'),\\n             ('total_rec_prncp', 'funded_amount'),\\n         ('total_rec_prncp', 'funded_amount_inv'),\\n                ('total_rec_prncp', 'instalment'),\\n             ('total_rec_prncp', 'total_payment'),\\n         ('total_rec_prncp', 'total_payment_inv'),\\n       ('total_rec_prncp', 'last_payment_amount'),\\n                 ('total_rec_int', 'loan_amount'),\\n               ('total_rec_int', 'funded_amount'),\\n           ('total_rec_int', 'funded_amount_inv'),\\n               ('total_rec_int', 'total_payment'),\\n           ('total_rec_int', 'total_payment_inv'),\\n        ('recoveries', 'collection_recovery_fee'),\\n        ('collection_recovery_fee', 'recoveries'),\\n       ('last_payment_amount', 'total_rec_prncp')],\\n      dtype='object')] are in the [index]\"",
     "output_type": "error",
     "traceback": [
      "\u001b[1;31m---------------------------------------------------------------------------\u001b[0m",
      "\u001b[1;31mKeyError\u001b[0m                                  Traceback (most recent call last)",
      "Cell \u001b[1;32mIn[5], line 2\u001b[0m\n\u001b[0;32m      1\u001b[0m \u001b[38;5;66;03m# this method will produce a load of pngs to display scatterplots... repo, prepare for a file dump. XD \u001b[39;00m\n\u001b[1;32m----> 2\u001b[0m \u001b[43mdf\u001b[49m\u001b[38;5;241;43m.\u001b[39;49m\u001b[43mcorr_matrix\u001b[49m\u001b[43m(\u001b[49m\u001b[43m)\u001b[49m \u001b[38;5;66;03m#default is 0.65 as a high correlation threshold; I'm happy with that for a start. \u001b[39;00m\n",
      "File \u001b[1;32mc:\\Users\\user\\example_folder\\exploratory-data-analysis---customer-loans-in-finance202-1\\data_cleaning_for_EDA.py:96\u001b[0m, in \u001b[0;36mDataFrameInfo.corr_matrix\u001b[1;34m(self, threshold)\u001b[0m\n\u001b[0;32m     92\u001b[0m     plt\u001b[38;5;241m.\u001b[39mclose()  \u001b[38;5;66;03m# Close the current plot to release memory\u001b[39;00m\n\u001b[0;32m     95\u001b[0m \u001b[38;5;66;03m# Filter the original correlation matrix for absolute correlations above the threshold\u001b[39;00m\n\u001b[1;32m---> 96\u001b[0m high_abs_corr_matrix \u001b[38;5;241m=\u001b[39m \u001b[43moriginal_corr_matrix\u001b[49m\u001b[38;5;241;43m.\u001b[39;49m\u001b[43mloc\u001b[49m\u001b[43m[\u001b[49m\u001b[43mhigh_corr_pairs\u001b[49m\u001b[43m]\u001b[49m\n\u001b[0;32m     97\u001b[0m \u001b[38;5;66;03m# Use high_corr_pairs to filter the original matrix\u001b[39;00m\n\u001b[0;32m     98\u001b[0m high_abs_corr_matrix \u001b[38;5;241m=\u001b[39m high_abs_corr_matrix\u001b[38;5;241m.\u001b[39mdropna(axis\u001b[38;5;241m=\u001b[39m\u001b[38;5;241m1\u001b[39m, how\u001b[38;5;241m=\u001b[39m\u001b[38;5;124m'\u001b[39m\u001b[38;5;124mall\u001b[39m\u001b[38;5;124m'\u001b[39m)\u001b[38;5;241m.\u001b[39mdropna(axis\u001b[38;5;241m=\u001b[39m\u001b[38;5;241m0\u001b[39m, how\u001b[38;5;241m=\u001b[39m\u001b[38;5;124m'\u001b[39m\u001b[38;5;124mall\u001b[39m\u001b[38;5;124m'\u001b[39m)\n",
      "File \u001b[1;32mc:\\Users\\user\\.conda\\envs\\EDA_AiCore_env\\Lib\\site-packages\\pandas\\core\\indexing.py:1153\u001b[0m, in \u001b[0;36m_LocationIndexer.__getitem__\u001b[1;34m(self, key)\u001b[0m\n\u001b[0;32m   1150\u001b[0m axis \u001b[38;5;241m=\u001b[39m \u001b[38;5;28mself\u001b[39m\u001b[38;5;241m.\u001b[39maxis \u001b[38;5;129;01mor\u001b[39;00m \u001b[38;5;241m0\u001b[39m\n\u001b[0;32m   1152\u001b[0m maybe_callable \u001b[38;5;241m=\u001b[39m com\u001b[38;5;241m.\u001b[39mapply_if_callable(key, \u001b[38;5;28mself\u001b[39m\u001b[38;5;241m.\u001b[39mobj)\n\u001b[1;32m-> 1153\u001b[0m \u001b[38;5;28;01mreturn\u001b[39;00m \u001b[38;5;28;43mself\u001b[39;49m\u001b[38;5;241;43m.\u001b[39;49m\u001b[43m_getitem_axis\u001b[49m\u001b[43m(\u001b[49m\u001b[43mmaybe_callable\u001b[49m\u001b[43m,\u001b[49m\u001b[43m \u001b[49m\u001b[43maxis\u001b[49m\u001b[38;5;241;43m=\u001b[39;49m\u001b[43maxis\u001b[49m\u001b[43m)\u001b[49m\n",
      "File \u001b[1;32mc:\\Users\\user\\.conda\\envs\\EDA_AiCore_env\\Lib\\site-packages\\pandas\\core\\indexing.py:1382\u001b[0m, in \u001b[0;36m_LocIndexer._getitem_axis\u001b[1;34m(self, key, axis)\u001b[0m\n\u001b[0;32m   1379\u001b[0m     \u001b[38;5;28;01mif\u001b[39;00m \u001b[38;5;28mhasattr\u001b[39m(key, \u001b[38;5;124m\"\u001b[39m\u001b[38;5;124mndim\u001b[39m\u001b[38;5;124m\"\u001b[39m) \u001b[38;5;129;01mand\u001b[39;00m key\u001b[38;5;241m.\u001b[39mndim \u001b[38;5;241m>\u001b[39m \u001b[38;5;241m1\u001b[39m:\n\u001b[0;32m   1380\u001b[0m         \u001b[38;5;28;01mraise\u001b[39;00m \u001b[38;5;167;01mValueError\u001b[39;00m(\u001b[38;5;124m\"\u001b[39m\u001b[38;5;124mCannot index with multidimensional key\u001b[39m\u001b[38;5;124m\"\u001b[39m)\n\u001b[1;32m-> 1382\u001b[0m     \u001b[38;5;28;01mreturn\u001b[39;00m \u001b[38;5;28;43mself\u001b[39;49m\u001b[38;5;241;43m.\u001b[39;49m\u001b[43m_getitem_iterable\u001b[49m\u001b[43m(\u001b[49m\u001b[43mkey\u001b[49m\u001b[43m,\u001b[49m\u001b[43m \u001b[49m\u001b[43maxis\u001b[49m\u001b[38;5;241;43m=\u001b[39;49m\u001b[43maxis\u001b[49m\u001b[43m)\u001b[49m\n\u001b[0;32m   1384\u001b[0m \u001b[38;5;66;03m# nested tuple slicing\u001b[39;00m\n\u001b[0;32m   1385\u001b[0m \u001b[38;5;28;01mif\u001b[39;00m is_nested_tuple(key, labels):\n",
      "File \u001b[1;32mc:\\Users\\user\\.conda\\envs\\EDA_AiCore_env\\Lib\\site-packages\\pandas\\core\\indexing.py:1322\u001b[0m, in \u001b[0;36m_LocIndexer._getitem_iterable\u001b[1;34m(self, key, axis)\u001b[0m\n\u001b[0;32m   1319\u001b[0m \u001b[38;5;28mself\u001b[39m\u001b[38;5;241m.\u001b[39m_validate_key(key, axis)\n\u001b[0;32m   1321\u001b[0m \u001b[38;5;66;03m# A collection of keys\u001b[39;00m\n\u001b[1;32m-> 1322\u001b[0m keyarr, indexer \u001b[38;5;241m=\u001b[39m \u001b[38;5;28;43mself\u001b[39;49m\u001b[38;5;241;43m.\u001b[39;49m\u001b[43m_get_listlike_indexer\u001b[49m\u001b[43m(\u001b[49m\u001b[43mkey\u001b[49m\u001b[43m,\u001b[49m\u001b[43m \u001b[49m\u001b[43maxis\u001b[49m\u001b[43m)\u001b[49m\n\u001b[0;32m   1323\u001b[0m \u001b[38;5;28;01mreturn\u001b[39;00m \u001b[38;5;28mself\u001b[39m\u001b[38;5;241m.\u001b[39mobj\u001b[38;5;241m.\u001b[39m_reindex_with_indexers(\n\u001b[0;32m   1324\u001b[0m     {axis: [keyarr, indexer]}, copy\u001b[38;5;241m=\u001b[39m\u001b[38;5;28;01mTrue\u001b[39;00m, allow_dups\u001b[38;5;241m=\u001b[39m\u001b[38;5;28;01mTrue\u001b[39;00m\n\u001b[0;32m   1325\u001b[0m )\n",
      "File \u001b[1;32mc:\\Users\\user\\.conda\\envs\\EDA_AiCore_env\\Lib\\site-packages\\pandas\\core\\indexing.py:1520\u001b[0m, in \u001b[0;36m_LocIndexer._get_listlike_indexer\u001b[1;34m(self, key, axis)\u001b[0m\n\u001b[0;32m   1517\u001b[0m ax \u001b[38;5;241m=\u001b[39m \u001b[38;5;28mself\u001b[39m\u001b[38;5;241m.\u001b[39mobj\u001b[38;5;241m.\u001b[39m_get_axis(axis)\n\u001b[0;32m   1518\u001b[0m axis_name \u001b[38;5;241m=\u001b[39m \u001b[38;5;28mself\u001b[39m\u001b[38;5;241m.\u001b[39mobj\u001b[38;5;241m.\u001b[39m_get_axis_name(axis)\n\u001b[1;32m-> 1520\u001b[0m keyarr, indexer \u001b[38;5;241m=\u001b[39m \u001b[43max\u001b[49m\u001b[38;5;241;43m.\u001b[39;49m\u001b[43m_get_indexer_strict\u001b[49m\u001b[43m(\u001b[49m\u001b[43mkey\u001b[49m\u001b[43m,\u001b[49m\u001b[43m \u001b[49m\u001b[43maxis_name\u001b[49m\u001b[43m)\u001b[49m\n\u001b[0;32m   1522\u001b[0m \u001b[38;5;28;01mreturn\u001b[39;00m keyarr, indexer\n",
      "File \u001b[1;32mc:\\Users\\user\\.conda\\envs\\EDA_AiCore_env\\Lib\\site-packages\\pandas\\core\\indexes\\base.py:6115\u001b[0m, in \u001b[0;36mIndex._get_indexer_strict\u001b[1;34m(self, key, axis_name)\u001b[0m\n\u001b[0;32m   6112\u001b[0m \u001b[38;5;28;01melse\u001b[39;00m:\n\u001b[0;32m   6113\u001b[0m     keyarr, indexer, new_indexer \u001b[38;5;241m=\u001b[39m \u001b[38;5;28mself\u001b[39m\u001b[38;5;241m.\u001b[39m_reindex_non_unique(keyarr)\n\u001b[1;32m-> 6115\u001b[0m \u001b[38;5;28;43mself\u001b[39;49m\u001b[38;5;241;43m.\u001b[39;49m\u001b[43m_raise_if_missing\u001b[49m\u001b[43m(\u001b[49m\u001b[43mkeyarr\u001b[49m\u001b[43m,\u001b[49m\u001b[43m \u001b[49m\u001b[43mindexer\u001b[49m\u001b[43m,\u001b[49m\u001b[43m \u001b[49m\u001b[43maxis_name\u001b[49m\u001b[43m)\u001b[49m\n\u001b[0;32m   6117\u001b[0m keyarr \u001b[38;5;241m=\u001b[39m \u001b[38;5;28mself\u001b[39m\u001b[38;5;241m.\u001b[39mtake(indexer)\n\u001b[0;32m   6118\u001b[0m \u001b[38;5;28;01mif\u001b[39;00m \u001b[38;5;28misinstance\u001b[39m(key, Index):\n\u001b[0;32m   6119\u001b[0m     \u001b[38;5;66;03m# GH 42790 - Preserve name from an Index\u001b[39;00m\n",
      "File \u001b[1;32mc:\\Users\\user\\.conda\\envs\\EDA_AiCore_env\\Lib\\site-packages\\pandas\\core\\indexes\\base.py:6176\u001b[0m, in \u001b[0;36mIndex._raise_if_missing\u001b[1;34m(self, key, indexer, axis_name)\u001b[0m\n\u001b[0;32m   6174\u001b[0m     \u001b[38;5;28;01mif\u001b[39;00m use_interval_msg:\n\u001b[0;32m   6175\u001b[0m         key \u001b[38;5;241m=\u001b[39m \u001b[38;5;28mlist\u001b[39m(key)\n\u001b[1;32m-> 6176\u001b[0m     \u001b[38;5;28;01mraise\u001b[39;00m \u001b[38;5;167;01mKeyError\u001b[39;00m(\u001b[38;5;124mf\u001b[39m\u001b[38;5;124m\"\u001b[39m\u001b[38;5;124mNone of [\u001b[39m\u001b[38;5;132;01m{\u001b[39;00mkey\u001b[38;5;132;01m}\u001b[39;00m\u001b[38;5;124m] are in the [\u001b[39m\u001b[38;5;132;01m{\u001b[39;00maxis_name\u001b[38;5;132;01m}\u001b[39;00m\u001b[38;5;124m]\u001b[39m\u001b[38;5;124m\"\u001b[39m)\n\u001b[0;32m   6178\u001b[0m not_found \u001b[38;5;241m=\u001b[39m \u001b[38;5;28mlist\u001b[39m(ensure_index(key)[missing_mask\u001b[38;5;241m.\u001b[39mnonzero()[\u001b[38;5;241m0\u001b[39m]]\u001b[38;5;241m.\u001b[39munique())\n\u001b[0;32m   6179\u001b[0m \u001b[38;5;28;01mraise\u001b[39;00m \u001b[38;5;167;01mKeyError\u001b[39;00m(\u001b[38;5;124mf\u001b[39m\u001b[38;5;124m\"\u001b[39m\u001b[38;5;132;01m{\u001b[39;00mnot_found\u001b[38;5;132;01m}\u001b[39;00m\u001b[38;5;124m not in index\u001b[39m\u001b[38;5;124m\"\u001b[39m)\n",
      "\u001b[1;31mKeyError\u001b[0m: \"None of [Index([                      ('Unnamed: 0', 'id'),\\n                      ('Unnamed: 0', 'member_id'),\\n                             ('id', 'Unnamed: 0'),\\n                              ('id', 'member_id'),\\n                      ('member_id', 'Unnamed: 0'),\\n                              ('member_id', 'id'),\\n                 ('loan_amount', 'funded_amount'),\\n             ('loan_amount', 'funded_amount_inv'),\\n                    ('loan_amount', 'instalment'),\\n                 ('loan_amount', 'total_payment'),\\n             ('loan_amount', 'total_payment_inv'),\\n               ('loan_amount', 'total_rec_prncp'),\\n                 ('loan_amount', 'total_rec_int'),\\n                 ('funded_amount', 'loan_amount'),\\n           ('funded_amount', 'funded_amount_inv'),\\n                  ('funded_amount', 'instalment'),\\n               ('funded_amount', 'total_payment'),\\n           ('funded_amount', 'total_payment_inv'),\\n             ('funded_amount', 'total_rec_prncp'),\\n               ('funded_amount', 'total_rec_int'),\\n             ('funded_amount_inv', 'loan_amount'),\\n           ('funded_amount_inv', 'funded_amount'),\\n              ('funded_amount_inv', 'instalment'),\\n           ('funded_amount_inv', 'total_payment'),\\n       ('funded_amount_inv', 'total_payment_inv'),\\n         ('funded_amount_inv', 'total_rec_prncp'),\\n           ('funded_amount_inv', 'total_rec_int'),\\n                    ('instalment', 'loan_amount'),\\n                  ('instalment', 'funded_amount'),\\n              ('instalment', 'funded_amount_inv'),\\n                  ('instalment', 'total_payment'),\\n              ('instalment', 'total_payment_inv'),\\n                ('instalment', 'total_rec_prncp'),\\n              ('open_accounts', 'total_accounts'),\\n              ('total_accounts', 'open_accounts'),\\n                   ('out_prncp', 'out_prncp_inv'),\\n                   ('out_prncp_inv', 'out_prncp'),\\n                 ('total_payment', 'loan_amount'),\\n               ('total_payment', 'funded_amount'),\\n           ('total_payment', 'funded_amount_inv'),\\n                  ('total_payment', 'instalment'),\\n           ('total_payment', 'total_payment_inv'),\\n             ('total_payment', 'total_rec_prncp'),\\n               ('total_payment', 'total_rec_int'),\\n             ('total_payment_inv', 'loan_amount'),\\n           ('total_payment_inv', 'funded_amount'),\\n       ('total_payment_inv', 'funded_amount_inv'),\\n              ('total_payment_inv', 'instalment'),\\n           ('total_payment_inv', 'total_payment'),\\n         ('total_payment_inv', 'total_rec_prncp'),\\n           ('total_payment_inv', 'total_rec_int'),\\n               ('total_rec_prncp', 'loan_amount'),\\n             ('total_rec_prncp', 'funded_amount'),\\n         ('total_rec_prncp', 'funded_amount_inv'),\\n                ('total_rec_prncp', 'instalment'),\\n             ('total_rec_prncp', 'total_payment'),\\n         ('total_rec_prncp', 'total_payment_inv'),\\n       ('total_rec_prncp', 'last_payment_amount'),\\n                 ('total_rec_int', 'loan_amount'),\\n               ('total_rec_int', 'funded_amount'),\\n           ('total_rec_int', 'funded_amount_inv'),\\n               ('total_rec_int', 'total_payment'),\\n           ('total_rec_int', 'total_payment_inv'),\\n        ('recoveries', 'collection_recovery_fee'),\\n        ('collection_recovery_fee', 'recoveries'),\\n       ('last_payment_amount', 'total_rec_prncp')],\\n      dtype='object')] are in the [index]\""
     ]
    }
   ],
   "source": [
    "# this method will produce a load of pngs to display scatterplots... repo, prepare for a file dump. XD \n",
    "df.corr_matrix() #default is 0.65 as a high correlation threshold; I'm happy with that for a start. "
   ]
  }
 ],
 "metadata": {
  "kernelspec": {
   "display_name": "EDA_AiCore_env",
   "language": "python",
   "name": "python3"
  },
  "language_info": {
   "codemirror_mode": {
    "name": "ipython",
    "version": 3
   },
   "file_extension": ".py",
   "mimetype": "text/x-python",
   "name": "python",
   "nbconvert_exporter": "python",
   "pygments_lexer": "ipython3",
   "version": "3.12.1"
  }
 },
 "nbformat": 4,
 "nbformat_minor": 2
}
